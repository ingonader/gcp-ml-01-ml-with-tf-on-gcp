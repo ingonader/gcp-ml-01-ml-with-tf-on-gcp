{
 "cells": [
  {
   "cell_type": "markdown",
   "metadata": {},
   "source": [
    "<h1> 2d. Distributed training and monitoring </h1>\n",
    "\n",
    "In this notebook, we refactor to call ```train_and_evaluate``` instead of hand-coding our ML pipeline. This allows us to carry out evaluation as part of our training loop instead of as a separate step. It also adds in failure-handling that is necessary for distributed training capabilities.\n",
    "\n",
    "We also use TensorBoard to monitor the training."
   ]
  },
  {
   "cell_type": "code",
   "execution_count": 1,
   "metadata": {},
   "outputs": [
    {
     "name": "stderr",
     "output_type": "stream",
     "text": [
      "/usr/local/envs/py3env/lib/python3.5/site-packages/h5py/__init__.py:36: FutureWarning: Conversion of the second argument of issubdtype from `float` to `np.floating` is deprecated. In future, it will be treated as `np.float64 == np.dtype(float).type`.\n",
      "  from ._conv import register_converters as _register_converters\n"
     ]
    },
    {
     "name": "stdout",
     "output_type": "stream",
     "text": [
      "1.8.0\n"
     ]
    }
   ],
   "source": [
    "import datalab.bigquery as bq\n",
    "import tensorflow as tf\n",
    "import numpy as np\n",
    "import shutil\n",
    "from google.datalab.ml import TensorBoard\n",
    "print(tf.__version__)"
   ]
  },
  {
   "cell_type": "markdown",
   "metadata": {},
   "source": [
    "<h2> Input </h2>\n",
    "\n",
    "Read data created in Lab1a, but this time make it more general, so that we are reading in batches.  Instead of using Pandas, we will use add a filename queue to the TensorFlow graph."
   ]
  },
  {
   "cell_type": "code",
   "execution_count": 6,
   "metadata": {},
   "outputs": [],
   "source": [
    "CSV_COLUMNS = ['fare_amount', 'pickuplon','pickuplat','dropofflon','dropofflat','passengers', 'key']\n",
    "LABEL_COLUMN = 'fare_amount'\n",
    "DEFAULTS = [[0.0], [-74.0], [40.0], [-74.0], [40.7], [1.0], ['nokey']]\n",
    "\n",
    "def read_dataset(filename, mode, batch_size = 512):\n",
    "  def decode_csv(value_column):\n",
    "    columns = tf.decode_csv(value_column, record_defaults = DEFAULTS)\n",
    "    features = dict(zip(CSV_COLUMNS, columns))\n",
    "    label = features.pop(LABEL_COLUMN)\n",
    "    return features, label\n",
    "\n",
    "  # Create list of file names that match \"glob\" pattern (i.e. data_file_*.csv)\n",
    "  filenames_dataset = tf.data.Dataset.list_files(filename)\n",
    "  # Read lines from text files\n",
    "  textlines_dataset = filenames_dataset.flat_map(tf.data.TextLineDataset)\n",
    "  # Parse text lines as comma-separated values (CSV)\n",
    "  dataset = textlines_dataset.map(decode_csv)\n",
    "\n",
    "  # Note:\n",
    "  # use tf.data.Dataset.flat_map to apply one to many transformations (here: filename -> text lines)\n",
    "  # use tf.data.Dataset.map      to apply one to one  transformations (here: text line -> feature list)\n",
    "\n",
    "  if mode == tf.estimator.ModeKeys.TRAIN:\n",
    "      num_epochs = None # indefinitely\n",
    "      dataset = dataset.shuffle(buffer_size = 10 * batch_size)\n",
    "  else:\n",
    "      num_epochs = 1 # end-of-input after this\n",
    "\n",
    "  dataset = dataset.repeat(num_epochs).batch(batch_size)\n",
    "\n",
    "  return dataset"
   ]
  },
  {
   "cell_type": "markdown",
   "metadata": {},
   "source": [
    "<h2> Create features out of input data </h2>\n",
    "\n",
    "For now, pass these through.  (same as previous lab)"
   ]
  },
  {
   "cell_type": "code",
   "execution_count": 7,
   "metadata": {},
   "outputs": [],
   "source": [
    "INPUT_COLUMNS = [\n",
    "    tf.feature_column.numeric_column('pickuplon'),\n",
    "    tf.feature_column.numeric_column('pickuplat'),\n",
    "    tf.feature_column.numeric_column('dropofflat'),\n",
    "    tf.feature_column.numeric_column('dropofflon'),\n",
    "    tf.feature_column.numeric_column('passengers'),\n",
    "]\n",
    "\n",
    "def add_more_features(feats):\n",
    "  # Nothing to add (yet!)\n",
    "  return feats\n",
    "\n",
    "feature_cols = add_more_features(INPUT_COLUMNS)"
   ]
  },
  {
   "cell_type": "markdown",
   "metadata": {},
   "source": [
    "<h2> Serving input function </h2>\n",
    "Defines the expected shape of the JSON feed that the modelwill receive once deployed behind a REST API in production."
   ]
  },
  {
   "cell_type": "code",
   "execution_count": 8,
   "metadata": {},
   "outputs": [],
   "source": [
    "# Defines the expected shape of the JSON feed that the model\n",
    "# will receive once deployed behind a REST API in production.\n",
    "\n",
    "## TODO: Create serving input function\n",
    "def serving_input_fn():\n",
    "    #ADD CODE HERE\n",
    "    json_feature_placeholders = {\n",
    "        'pickuplon'  : tf.placeholder(tf.float32, [None]),\n",
    "        'pickuplat'  : tf.placeholder(tf.float32, [None]),\n",
    "        'dropofflat' : tf.placeholder(tf.float32, [None]),\n",
    "        'dropofflon' : tf.placeholder(tf.float32, [None]),\n",
    "        'passengers' : tf.placeholder(tf.float32, [None])\n",
    "    }\n",
    "    \n",
    "    ## transform data here, if needed (not needed here)\n",
    "    features = json_feature_placeholders\n",
    "    \n",
    "    ## make features a 'ServingInputReceiver' and return it:\n",
    "    ## (this will create a tensorflow node, which reads data\n",
    "    ## consecutively when the graph is executed):\n",
    "    return tf.estimator.export.ServingInputReceiver(features, json_feature_placeholders)"
   ]
  },
  {
   "cell_type": "markdown",
   "metadata": {},
   "source": [
    "<h2> tf.estimator.train_and_evaluate </h2>"
   ]
  },
  {
   "cell_type": "code",
   "execution_count": 12,
   "metadata": {},
   "outputs": [],
   "source": [
    "## TODO: Create train and evaluate function using tf.estimator\n",
    "def train_and_evaluate(output_dir, num_train_steps):\n",
    "    #ADD CODE HERE\n",
    "    ## define estimator:\n",
    "    estimator = tf.estimator.LinearRegressor(\n",
    "        feature_columns = feature_cols,\n",
    "        model_dir = output_dir\n",
    "    )\n",
    "    ## define the train spec, \n",
    "    ## which specifies the input function and max_steps\n",
    "    ## (and possibly some hooks):\n",
    "    train_spec = tf.estimator.TrainSpec(\n",
    "        input_fn = lambda: read_dataset('./taxi-train.csv', mode = tf.estimator.ModeKeys.TRAIN),\n",
    "        max_steps = num_train_steps\n",
    "    )\n",
    "    \n",
    "    ## define the exporter, which is needed for understanding\n",
    "    ## json data coming in when model is deployed\n",
    "    ## (serving time inputs); LatestExporter takes the latest\n",
    "    ## checkpoint of the model:\n",
    "    exporter = tf.estimator.LatestExporter('exporter', serving_input_fn)\n",
    "    \n",
    "    ## define the eval spec (evaluation data input function):\n",
    "    eval_spec = tf.estimator.EvalSpec(\n",
    "        input_fn = lambda: read_dataset('./taxi-valid.csv', mode = tf.estimator.ModeKeys.EVAL),\n",
    "        steps = None, \n",
    "        start_delay_secs = 1, # start evaluating after n seconds\n",
    "        throttle_secs = 10,   # evaluate every n seconds\n",
    "        exporters = exporter   # using the model specified in the exporter (?)\n",
    "    )\n",
    "    \n",
    "    ## finally, call the train_and_evaluate function in the tensorflow package:\n",
    "    tf.estimator.train_and_evaluate(estimator, train_spec, eval_spec)"
   ]
  },
  {
   "cell_type": "markdown",
   "metadata": {},
   "source": [
    "<h2> Monitoring with TensorBoard </h2>\n",
    "<br/>\n",
    "Use \"refresh\" in Tensorboard during training to see progress."
   ]
  },
  {
   "cell_type": "code",
   "execution_count": 13,
   "metadata": {},
   "outputs": [
    {
     "data": {
      "text/html": [
       "<p>TensorBoard was started successfully with pid 3864. Click <a href=\"/_proxy/41361/\" target=\"_blank\">here</a> to access it.</p>"
      ]
     },
     "metadata": {},
     "output_type": "display_data"
    },
    {
     "data": {
      "text/plain": [
       "3864"
      ]
     },
     "execution_count": 13,
     "metadata": {},
     "output_type": "execute_result"
    }
   ],
   "source": [
    "OUTDIR = 'taxi_trained'\n",
    "TensorBoard().start(OUTDIR)"
   ]
  },
  {
   "cell_type": "markdown",
   "metadata": {},
   "source": [
    "<h2>Run training</h2>"
   ]
  },
  {
   "cell_type": "code",
   "execution_count": 14,
   "metadata": {},
   "outputs": [
    {
     "name": "stdout",
     "output_type": "stream",
     "text": [
      "INFO:tensorflow:Using default config.\n",
      "INFO:tensorflow:Using config: {'_num_ps_replicas': 0, '_train_distribute': None, '_service': None, '_is_chief': True, '_save_summary_steps': 100, '_log_step_count_steps': 100, '_evaluation_master': '', '_model_dir': 'taxi_trained', '_tf_random_seed': None, '_save_checkpoints_steps': None, '_keep_checkpoint_every_n_hours': 10000, '_task_id': 0, '_keep_checkpoint_max': 5, '_cluster_spec': <tensorflow.python.training.server_lib.ClusterSpec object at 0x7f37b416fb70>, '_num_worker_replicas': 1, '_save_checkpoints_secs': 600, '_global_id_in_cluster': 0, '_session_config': None, '_master': '', '_task_type': 'worker'}\n",
      "INFO:tensorflow:Running training and evaluation locally (non-distributed).\n",
      "INFO:tensorflow:Start train and evaluate loop. The evaluate will happen after 10 secs (eval_spec.throttle_secs) or training is finished.\n",
      "INFO:tensorflow:Calling model_fn.\n",
      "INFO:tensorflow:Done calling model_fn.\n",
      "INFO:tensorflow:Create CheckpointSaverHook.\n",
      "INFO:tensorflow:Graph was finalized.\n",
      "INFO:tensorflow:Running local_init_op.\n",
      "INFO:tensorflow:Done running local_init_op.\n",
      "INFO:tensorflow:Saving checkpoints for 1 into taxi_trained/model.ckpt.\n",
      "INFO:tensorflow:loss = 89247.36, step = 1\n",
      "INFO:tensorflow:global_step/sec: 42.9986\n",
      "INFO:tensorflow:loss = 45854.043, step = 101 (2.330 sec)\n",
      "INFO:tensorflow:global_step/sec: 40.3375\n",
      "INFO:tensorflow:loss = 50273.656, step = 201 (2.483 sec)\n",
      "INFO:tensorflow:global_step/sec: 43.7658\n",
      "INFO:tensorflow:loss = 41378.895, step = 301 (2.281 sec)\n",
      "INFO:tensorflow:Saving checkpoints for 319 into taxi_trained/model.ckpt.\n",
      "INFO:tensorflow:Loss for final step: 47273.605.\n",
      "INFO:tensorflow:Calling model_fn.\n",
      "INFO:tensorflow:Done calling model_fn.\n",
      "INFO:tensorflow:Starting evaluation at 2019-01-31-14:12:14\n",
      "INFO:tensorflow:Graph was finalized.\n",
      "INFO:tensorflow:Restoring parameters from taxi_trained/model.ckpt-319\n",
      "INFO:tensorflow:Running local_init_op.\n",
      "INFO:tensorflow:Done running local_init_op.\n",
      "INFO:tensorflow:Finished evaluation at 2019-01-31-14:12:15\n",
      "INFO:tensorflow:Saving dict for global step 319: average_loss = 108.924866, global_step = 319, loss = 45339.977\n",
      "INFO:tensorflow:Calling model_fn.\n",
      "INFO:tensorflow:Done calling model_fn.\n",
      "INFO:tensorflow:Signatures INCLUDED in export for Regress: None\n",
      "INFO:tensorflow:Signatures INCLUDED in export for Classify: None\n",
      "INFO:tensorflow:Signatures INCLUDED in export for Predict: ['predict']\n",
      "INFO:tensorflow:Signatures EXCLUDED from export because they cannot be be served via TensorFlow Serving APIs:\n",
      "INFO:tensorflow:'regression' : Regression input must be a single string Tensor; got {'dropofflat': <tf.Tensor 'Placeholder_2:0' shape=(?,) dtype=float32>, 'passengers': <tf.Tensor 'Placeholder_4:0' shape=(?,) dtype=float32>, 'pickuplon': <tf.Tensor 'Placeholder:0' shape=(?,) dtype=float32>, 'dropofflon': <tf.Tensor 'Placeholder_3:0' shape=(?,) dtype=float32>, 'pickuplat': <tf.Tensor 'Placeholder_1:0' shape=(?,) dtype=float32>}\n",
      "INFO:tensorflow:'serving_default' : Regression input must be a single string Tensor; got {'dropofflat': <tf.Tensor 'Placeholder_2:0' shape=(?,) dtype=float32>, 'passengers': <tf.Tensor 'Placeholder_4:0' shape=(?,) dtype=float32>, 'pickuplon': <tf.Tensor 'Placeholder:0' shape=(?,) dtype=float32>, 'dropofflon': <tf.Tensor 'Placeholder_3:0' shape=(?,) dtype=float32>, 'pickuplat': <tf.Tensor 'Placeholder_1:0' shape=(?,) dtype=float32>}\n",
      "WARNING:tensorflow:Export includes no default signature!\n",
      "INFO:tensorflow:Restoring parameters from taxi_trained/model.ckpt-319\n",
      "INFO:tensorflow:Assets added to graph.\n",
      "INFO:tensorflow:No assets to write.\n",
      "INFO:tensorflow:SavedModel written to: b\"taxi_trained/export/exporter/temp-b'1548943935'/saved_model.pb\"\n",
      "INFO:tensorflow:Calling model_fn.\n",
      "INFO:tensorflow:Done calling model_fn.\n",
      "INFO:tensorflow:Create CheckpointSaverHook.\n",
      "INFO:tensorflow:Graph was finalized.\n",
      "INFO:tensorflow:Restoring parameters from taxi_trained/model.ckpt-319\n",
      "INFO:tensorflow:Running local_init_op.\n",
      "INFO:tensorflow:Done running local_init_op.\n",
      "INFO:tensorflow:Saving checkpoints for 320 into taxi_trained/model.ckpt.\n",
      "INFO:tensorflow:loss = 49307.58, step = 320\n",
      "INFO:tensorflow:global_step/sec: 42.6084\n",
      "INFO:tensorflow:loss = 36660.547, step = 420 (2.354 sec)\n",
      "INFO:tensorflow:global_step/sec: 39.4109\n",
      "INFO:tensorflow:loss = 34302.793, step = 520 (2.537 sec)\n",
      "INFO:tensorflow:global_step/sec: 44.0091\n",
      "INFO:tensorflow:loss = 38913.332, step = 620 (2.274 sec)\n",
      "INFO:tensorflow:Saving checkpoints for 688 into taxi_trained/model.ckpt.\n",
      "INFO:tensorflow:Loss for final step: 42008.16.\n",
      "INFO:tensorflow:Calling model_fn.\n",
      "INFO:tensorflow:Done calling model_fn.\n",
      "INFO:tensorflow:Starting evaluation at 2019-01-31-14:12:26\n",
      "INFO:tensorflow:Graph was finalized.\n",
      "INFO:tensorflow:Restoring parameters from taxi_trained/model.ckpt-688\n",
      "INFO:tensorflow:Running local_init_op.\n",
      "INFO:tensorflow:Done running local_init_op.\n",
      "INFO:tensorflow:Finished evaluation at 2019-01-31-14:12:26\n",
      "INFO:tensorflow:Saving dict for global step 688: average_loss = 109.070244, global_step = 688, loss = 45400.49\n",
      "INFO:tensorflow:Calling model_fn.\n",
      "INFO:tensorflow:Done calling model_fn.\n",
      "INFO:tensorflow:Signatures INCLUDED in export for Regress: None\n",
      "INFO:tensorflow:Signatures INCLUDED in export for Classify: None\n",
      "INFO:tensorflow:Signatures INCLUDED in export for Predict: ['predict']\n",
      "INFO:tensorflow:Signatures EXCLUDED from export because they cannot be be served via TensorFlow Serving APIs:\n",
      "INFO:tensorflow:'regression' : Regression input must be a single string Tensor; got {'dropofflat': <tf.Tensor 'Placeholder_2:0' shape=(?,) dtype=float32>, 'passengers': <tf.Tensor 'Placeholder_4:0' shape=(?,) dtype=float32>, 'pickuplon': <tf.Tensor 'Placeholder:0' shape=(?,) dtype=float32>, 'dropofflon': <tf.Tensor 'Placeholder_3:0' shape=(?,) dtype=float32>, 'pickuplat': <tf.Tensor 'Placeholder_1:0' shape=(?,) dtype=float32>}\n",
      "INFO:tensorflow:'serving_default' : Regression input must be a single string Tensor; got {'dropofflat': <tf.Tensor 'Placeholder_2:0' shape=(?,) dtype=float32>, 'passengers': <tf.Tensor 'Placeholder_4:0' shape=(?,) dtype=float32>, 'pickuplon': <tf.Tensor 'Placeholder:0' shape=(?,) dtype=float32>, 'dropofflon': <tf.Tensor 'Placeholder_3:0' shape=(?,) dtype=float32>, 'pickuplat': <tf.Tensor 'Placeholder_1:0' shape=(?,) dtype=float32>}\n",
      "WARNING:tensorflow:Export includes no default signature!\n",
      "INFO:tensorflow:Restoring parameters from taxi_trained/model.ckpt-688\n",
      "INFO:tensorflow:Assets added to graph.\n",
      "INFO:tensorflow:No assets to write.\n",
      "INFO:tensorflow:SavedModel written to: b\"taxi_trained/export/exporter/temp-b'1548943946'/saved_model.pb\"\n",
      "INFO:tensorflow:Calling model_fn.\n",
      "INFO:tensorflow:Done calling model_fn.\n",
      "INFO:tensorflow:Create CheckpointSaverHook.\n",
      "INFO:tensorflow:Graph was finalized.\n",
      "INFO:tensorflow:Restoring parameters from taxi_trained/model.ckpt-688\n",
      "INFO:tensorflow:Running local_init_op.\n",
      "INFO:tensorflow:Done running local_init_op.\n",
      "INFO:tensorflow:Saving checkpoints for 689 into taxi_trained/model.ckpt.\n",
      "INFO:tensorflow:loss = 47559.805, step = 689\n",
      "INFO:tensorflow:global_step/sec: 40.0672\n",
      "INFO:tensorflow:loss = 50728.637, step = 789 (2.501 sec)\n",
      "INFO:tensorflow:global_step/sec: 40.4208\n",
      "INFO:tensorflow:loss = 39914.992, step = 889 (2.475 sec)\n",
      "INFO:tensorflow:global_step/sec: 43.4801\n",
      "INFO:tensorflow:loss = 39596.99, step = 989 (2.296 sec)\n",
      "INFO:tensorflow:Saving checkpoints for 1068 into taxi_trained/model.ckpt.\n",
      "INFO:tensorflow:Loss for final step: 41147.883.\n",
      "INFO:tensorflow:Calling model_fn.\n",
      "INFO:tensorflow:Done calling model_fn.\n",
      "INFO:tensorflow:Starting evaluation at 2019-01-31-14:12:37\n",
      "INFO:tensorflow:Graph was finalized.\n",
      "INFO:tensorflow:Restoring parameters from taxi_trained/model.ckpt-1068\n",
      "INFO:tensorflow:Running local_init_op.\n",
      "INFO:tensorflow:Done running local_init_op.\n",
      "INFO:tensorflow:Finished evaluation at 2019-01-31-14:12:38\n",
      "INFO:tensorflow:Saving dict for global step 1068: average_loss = 108.83929, global_step = 1068, loss = 45304.35\n",
      "INFO:tensorflow:Calling model_fn.\n",
      "INFO:tensorflow:Done calling model_fn.\n",
      "INFO:tensorflow:Signatures INCLUDED in export for Regress: None\n",
      "INFO:tensorflow:Signatures INCLUDED in export for Classify: None\n",
      "INFO:tensorflow:Signatures INCLUDED in export for Predict: ['predict']\n",
      "INFO:tensorflow:Signatures EXCLUDED from export because they cannot be be served via TensorFlow Serving APIs:\n"
     ]
    },
    {
     "name": "stdout",
     "output_type": "stream",
     "text": [
      "INFO:tensorflow:'regression' : Regression input must be a single string Tensor; got {'dropofflat': <tf.Tensor 'Placeholder_2:0' shape=(?,) dtype=float32>, 'passengers': <tf.Tensor 'Placeholder_4:0' shape=(?,) dtype=float32>, 'pickuplon': <tf.Tensor 'Placeholder:0' shape=(?,) dtype=float32>, 'dropofflon': <tf.Tensor 'Placeholder_3:0' shape=(?,) dtype=float32>, 'pickuplat': <tf.Tensor 'Placeholder_1:0' shape=(?,) dtype=float32>}\n",
      "INFO:tensorflow:'serving_default' : Regression input must be a single string Tensor; got {'dropofflat': <tf.Tensor 'Placeholder_2:0' shape=(?,) dtype=float32>, 'passengers': <tf.Tensor 'Placeholder_4:0' shape=(?,) dtype=float32>, 'pickuplon': <tf.Tensor 'Placeholder:0' shape=(?,) dtype=float32>, 'dropofflon': <tf.Tensor 'Placeholder_3:0' shape=(?,) dtype=float32>, 'pickuplat': <tf.Tensor 'Placeholder_1:0' shape=(?,) dtype=float32>}\n",
      "WARNING:tensorflow:Export includes no default signature!\n",
      "INFO:tensorflow:Restoring parameters from taxi_trained/model.ckpt-1068\n",
      "INFO:tensorflow:Assets added to graph.\n",
      "INFO:tensorflow:No assets to write.\n",
      "INFO:tensorflow:SavedModel written to: b\"taxi_trained/export/exporter/temp-b'1548943958'/saved_model.pb\"\n",
      "INFO:tensorflow:Calling model_fn.\n",
      "INFO:tensorflow:Done calling model_fn.\n",
      "INFO:tensorflow:Create CheckpointSaverHook.\n",
      "INFO:tensorflow:Graph was finalized.\n",
      "INFO:tensorflow:Restoring parameters from taxi_trained/model.ckpt-1068\n",
      "INFO:tensorflow:Running local_init_op.\n",
      "INFO:tensorflow:Done running local_init_op.\n",
      "INFO:tensorflow:Saving checkpoints for 1069 into taxi_trained/model.ckpt.\n",
      "INFO:tensorflow:loss = 37988.21, step = 1069\n",
      "INFO:tensorflow:global_step/sec: 42.3555\n",
      "INFO:tensorflow:loss = 39090.723, step = 1169 (2.366 sec)\n",
      "INFO:tensorflow:global_step/sec: 40.5254\n",
      "INFO:tensorflow:loss = 37526.188, step = 1269 (2.468 sec)\n",
      "INFO:tensorflow:global_step/sec: 45.7175\n",
      "INFO:tensorflow:loss = 49681.945, step = 1369 (2.186 sec)\n",
      "INFO:tensorflow:Saving checkpoints for 1453 into taxi_trained/model.ckpt.\n",
      "INFO:tensorflow:Loss for final step: 47247.055.\n",
      "INFO:tensorflow:Calling model_fn.\n",
      "INFO:tensorflow:Done calling model_fn.\n",
      "INFO:tensorflow:Starting evaluation at 2019-01-31-14:12:49\n",
      "INFO:tensorflow:Graph was finalized.\n",
      "INFO:tensorflow:Restoring parameters from taxi_trained/model.ckpt-1453\n",
      "INFO:tensorflow:Running local_init_op.\n",
      "INFO:tensorflow:Done running local_init_op.\n",
      "INFO:tensorflow:Finished evaluation at 2019-01-31-14:12:49\n",
      "INFO:tensorflow:Saving dict for global step 1453: average_loss = 109.021576, global_step = 1453, loss = 45380.23\n",
      "INFO:tensorflow:Calling model_fn.\n",
      "INFO:tensorflow:Done calling model_fn.\n",
      "INFO:tensorflow:Signatures INCLUDED in export for Regress: None\n",
      "INFO:tensorflow:Signatures INCLUDED in export for Classify: None\n",
      "INFO:tensorflow:Signatures INCLUDED in export for Predict: ['predict']\n",
      "INFO:tensorflow:Signatures EXCLUDED from export because they cannot be be served via TensorFlow Serving APIs:\n",
      "INFO:tensorflow:'regression' : Regression input must be a single string Tensor; got {'dropofflat': <tf.Tensor 'Placeholder_2:0' shape=(?,) dtype=float32>, 'passengers': <tf.Tensor 'Placeholder_4:0' shape=(?,) dtype=float32>, 'pickuplon': <tf.Tensor 'Placeholder:0' shape=(?,) dtype=float32>, 'dropofflon': <tf.Tensor 'Placeholder_3:0' shape=(?,) dtype=float32>, 'pickuplat': <tf.Tensor 'Placeholder_1:0' shape=(?,) dtype=float32>}\n",
      "INFO:tensorflow:'serving_default' : Regression input must be a single string Tensor; got {'dropofflat': <tf.Tensor 'Placeholder_2:0' shape=(?,) dtype=float32>, 'passengers': <tf.Tensor 'Placeholder_4:0' shape=(?,) dtype=float32>, 'pickuplon': <tf.Tensor 'Placeholder:0' shape=(?,) dtype=float32>, 'dropofflon': <tf.Tensor 'Placeholder_3:0' shape=(?,) dtype=float32>, 'pickuplat': <tf.Tensor 'Placeholder_1:0' shape=(?,) dtype=float32>}\n",
      "WARNING:tensorflow:Export includes no default signature!\n",
      "INFO:tensorflow:Restoring parameters from taxi_trained/model.ckpt-1453\n",
      "INFO:tensorflow:Assets added to graph.\n",
      "INFO:tensorflow:No assets to write.\n",
      "INFO:tensorflow:SavedModel written to: b\"taxi_trained/export/exporter/temp-b'1548943969'/saved_model.pb\"\n",
      "INFO:tensorflow:Calling model_fn.\n",
      "INFO:tensorflow:Done calling model_fn.\n",
      "INFO:tensorflow:Create CheckpointSaverHook.\n",
      "INFO:tensorflow:Graph was finalized.\n",
      "INFO:tensorflow:Restoring parameters from taxi_trained/model.ckpt-1453\n",
      "INFO:tensorflow:Running local_init_op.\n",
      "INFO:tensorflow:Done running local_init_op.\n",
      "INFO:tensorflow:Saving checkpoints for 1454 into taxi_trained/model.ckpt.\n",
      "INFO:tensorflow:loss = 49259.36, step = 1454\n",
      "INFO:tensorflow:global_step/sec: 42.1839\n",
      "INFO:tensorflow:loss = 42672.355, step = 1554 (2.375 sec)\n",
      "INFO:tensorflow:global_step/sec: 39.3081\n",
      "INFO:tensorflow:loss = 36105.83, step = 1654 (2.545 sec)\n",
      "INFO:tensorflow:global_step/sec: 43.7113\n",
      "INFO:tensorflow:loss = 43024.168, step = 1754 (2.284 sec)\n",
      "INFO:tensorflow:Saving checkpoints for 1833 into taxi_trained/model.ckpt.\n",
      "INFO:tensorflow:Loss for final step: 46824.29.\n",
      "INFO:tensorflow:Calling model_fn.\n",
      "INFO:tensorflow:Done calling model_fn.\n",
      "INFO:tensorflow:Starting evaluation at 2019-01-31-14:13:00\n",
      "INFO:tensorflow:Graph was finalized.\n",
      "INFO:tensorflow:Restoring parameters from taxi_trained/model.ckpt-1833\n",
      "INFO:tensorflow:Running local_init_op.\n",
      "INFO:tensorflow:Done running local_init_op.\n",
      "INFO:tensorflow:Finished evaluation at 2019-01-31-14:13:01\n",
      "INFO:tensorflow:Saving dict for global step 1833: average_loss = 109.237785, global_step = 1833, loss = 45470.227\n",
      "INFO:tensorflow:Calling model_fn.\n",
      "INFO:tensorflow:Done calling model_fn.\n",
      "INFO:tensorflow:Signatures INCLUDED in export for Regress: None\n",
      "INFO:tensorflow:Signatures INCLUDED in export for Classify: None\n",
      "INFO:tensorflow:Signatures INCLUDED in export for Predict: ['predict']\n",
      "INFO:tensorflow:Signatures EXCLUDED from export because they cannot be be served via TensorFlow Serving APIs:\n",
      "INFO:tensorflow:'regression' : Regression input must be a single string Tensor; got {'dropofflat': <tf.Tensor 'Placeholder_2:0' shape=(?,) dtype=float32>, 'passengers': <tf.Tensor 'Placeholder_4:0' shape=(?,) dtype=float32>, 'pickuplon': <tf.Tensor 'Placeholder:0' shape=(?,) dtype=float32>, 'dropofflon': <tf.Tensor 'Placeholder_3:0' shape=(?,) dtype=float32>, 'pickuplat': <tf.Tensor 'Placeholder_1:0' shape=(?,) dtype=float32>}\n",
      "INFO:tensorflow:'serving_default' : Regression input must be a single string Tensor; got {'dropofflat': <tf.Tensor 'Placeholder_2:0' shape=(?,) dtype=float32>, 'passengers': <tf.Tensor 'Placeholder_4:0' shape=(?,) dtype=float32>, 'pickuplon': <tf.Tensor 'Placeholder:0' shape=(?,) dtype=float32>, 'dropofflon': <tf.Tensor 'Placeholder_3:0' shape=(?,) dtype=float32>, 'pickuplat': <tf.Tensor 'Placeholder_1:0' shape=(?,) dtype=float32>}\n",
      "WARNING:tensorflow:Export includes no default signature!\n",
      "INFO:tensorflow:Restoring parameters from taxi_trained/model.ckpt-1833\n",
      "INFO:tensorflow:Assets added to graph.\n",
      "INFO:tensorflow:No assets to write.\n",
      "INFO:tensorflow:SavedModel written to: b\"taxi_trained/export/exporter/temp-b'1548943981'/saved_model.pb\"\n",
      "INFO:tensorflow:Calling model_fn.\n",
      "INFO:tensorflow:Done calling model_fn.\n",
      "INFO:tensorflow:Create CheckpointSaverHook.\n",
      "INFO:tensorflow:Graph was finalized.\n",
      "INFO:tensorflow:Restoring parameters from taxi_trained/model.ckpt-1833\n",
      "INFO:tensorflow:Running local_init_op.\n",
      "INFO:tensorflow:Done running local_init_op.\n",
      "INFO:tensorflow:Saving checkpoints for 1834 into taxi_trained/model.ckpt.\n",
      "INFO:tensorflow:loss = 46493.09, step = 1834\n",
      "INFO:tensorflow:global_step/sec: 43.6461\n",
      "INFO:tensorflow:loss = 36478.875, step = 1934 (2.296 sec)\n",
      "INFO:tensorflow:Saving checkpoints for 2000 into taxi_trained/model.ckpt.\n",
      "INFO:tensorflow:Loss for final step: 37837.133.\n",
      "INFO:tensorflow:Calling model_fn.\n",
      "INFO:tensorflow:Done calling model_fn.\n",
      "INFO:tensorflow:Starting evaluation at 2019-01-31-14:13:07\n",
      "INFO:tensorflow:Graph was finalized.\n",
      "INFO:tensorflow:Restoring parameters from taxi_trained/model.ckpt-2000\n",
      "INFO:tensorflow:Running local_init_op.\n",
      "INFO:tensorflow:Done running local_init_op.\n",
      "INFO:tensorflow:Finished evaluation at 2019-01-31-14:13:07\n",
      "INFO:tensorflow:Saving dict for global step 2000: average_loss = 109.40889, global_step = 2000, loss = 45541.45\n",
      "INFO:tensorflow:Calling model_fn.\n",
      "INFO:tensorflow:Done calling model_fn.\n",
      "INFO:tensorflow:Signatures INCLUDED in export for Regress: None\n"
     ]
    },
    {
     "name": "stdout",
     "output_type": "stream",
     "text": [
      "INFO:tensorflow:Signatures INCLUDED in export for Classify: None\n",
      "INFO:tensorflow:Signatures INCLUDED in export for Predict: ['predict']\n",
      "INFO:tensorflow:Signatures EXCLUDED from export because they cannot be be served via TensorFlow Serving APIs:\n",
      "INFO:tensorflow:'regression' : Regression input must be a single string Tensor; got {'dropofflat': <tf.Tensor 'Placeholder_2:0' shape=(?,) dtype=float32>, 'passengers': <tf.Tensor 'Placeholder_4:0' shape=(?,) dtype=float32>, 'pickuplon': <tf.Tensor 'Placeholder:0' shape=(?,) dtype=float32>, 'dropofflon': <tf.Tensor 'Placeholder_3:0' shape=(?,) dtype=float32>, 'pickuplat': <tf.Tensor 'Placeholder_1:0' shape=(?,) dtype=float32>}\n",
      "INFO:tensorflow:'serving_default' : Regression input must be a single string Tensor; got {'dropofflat': <tf.Tensor 'Placeholder_2:0' shape=(?,) dtype=float32>, 'passengers': <tf.Tensor 'Placeholder_4:0' shape=(?,) dtype=float32>, 'pickuplon': <tf.Tensor 'Placeholder:0' shape=(?,) dtype=float32>, 'dropofflon': <tf.Tensor 'Placeholder_3:0' shape=(?,) dtype=float32>, 'pickuplat': <tf.Tensor 'Placeholder_1:0' shape=(?,) dtype=float32>}\n",
      "WARNING:tensorflow:Export includes no default signature!\n",
      "INFO:tensorflow:Restoring parameters from taxi_trained/model.ckpt-2000\n",
      "INFO:tensorflow:Assets added to graph.\n",
      "INFO:tensorflow:No assets to write.\n",
      "INFO:tensorflow:SavedModel written to: b\"taxi_trained/export/exporter/temp-b'1548943987'/saved_model.pb\"\n"
     ]
    }
   ],
   "source": [
    "# Run training    \n",
    "shutil.rmtree(OUTDIR, ignore_errors = True) # start fresh each time\n",
    "train_and_evaluate(OUTDIR, num_train_steps = 2000)"
   ]
  },
  {
   "cell_type": "markdown",
   "metadata": {},
   "source": [
    "<h4> You can now shut Tensorboard down </h4>"
   ]
  },
  {
   "cell_type": "code",
   "execution_count": 15,
   "metadata": {},
   "outputs": [
    {
     "data": {
      "text/html": [
       "<div>\n",
       "<style scoped>\n",
       "    .dataframe tbody tr th:only-of-type {\n",
       "        vertical-align: middle;\n",
       "    }\n",
       "\n",
       "    .dataframe tbody tr th {\n",
       "        vertical-align: top;\n",
       "    }\n",
       "\n",
       "    .dataframe thead th {\n",
       "        text-align: right;\n",
       "    }\n",
       "</style>\n",
       "<table border=\"1\" class=\"dataframe\">\n",
       "  <thead>\n",
       "    <tr style=\"text-align: right;\">\n",
       "      <th></th>\n",
       "      <th>logdir</th>\n",
       "      <th>pid</th>\n",
       "      <th>port</th>\n",
       "    </tr>\n",
       "  </thead>\n",
       "  <tbody>\n",
       "    <tr>\n",
       "      <th>0</th>\n",
       "      <td>taxi_trained</td>\n",
       "      <td>3846</td>\n",
       "      <td>49541</td>\n",
       "    </tr>\n",
       "    <tr>\n",
       "      <th>1</th>\n",
       "      <td>taxi_trained</td>\n",
       "      <td>3864</td>\n",
       "      <td>41361</td>\n",
       "    </tr>\n",
       "  </tbody>\n",
       "</table>\n",
       "</div>"
      ],
      "text/plain": [
       "         logdir   pid   port\n",
       "0  taxi_trained  3846  49541\n",
       "1  taxi_trained  3864  41361"
      ]
     },
     "execution_count": 15,
     "metadata": {},
     "output_type": "execute_result"
    }
   ],
   "source": [
    "# to list Tensorboard instances\n",
    "TensorBoard().list()"
   ]
  },
  {
   "cell_type": "code",
   "execution_count": 17,
   "metadata": {},
   "outputs": [
    {
     "name": "stdout",
     "output_type": "stream",
     "text": [
      "Stopped Tensorboard\n"
     ]
    }
   ],
   "source": [
    "# to stop TensorBoard fill the correct pid below\n",
    "TensorBoard().stop(3864)\n",
    "print(\"Stopped Tensorboard\")"
   ]
  },
  {
   "cell_type": "markdown",
   "metadata": {},
   "source": [
    "## Challenge Exercise\n",
    "\n",
    "Modify your solution to the challenge exercise in c_dataset.ipynb appropriately."
   ]
  },
  {
   "cell_type": "code",
   "execution_count": 37,
   "metadata": {},
   "outputs": [
    {
     "name": "stdout",
     "output_type": "stream",
     "text": [
      "1.8.0\n"
     ]
    },
    {
     "data": {
      "text/html": [
       "<div>\n",
       "<style scoped>\n",
       "    .dataframe tbody tr th:only-of-type {\n",
       "        vertical-align: middle;\n",
       "    }\n",
       "\n",
       "    .dataframe tbody tr th {\n",
       "        vertical-align: top;\n",
       "    }\n",
       "\n",
       "    .dataframe thead th {\n",
       "        text-align: right;\n",
       "    }\n",
       "</style>\n",
       "<table border=\"1\" class=\"dataframe\">\n",
       "  <thead>\n",
       "    <tr style=\"text-align: right;\">\n",
       "      <th></th>\n",
       "      <th>h</th>\n",
       "      <th>r</th>\n",
       "      <th>v</th>\n",
       "    </tr>\n",
       "  </thead>\n",
       "  <tbody>\n",
       "    <tr>\n",
       "      <th>0</th>\n",
       "      <td>1.5</td>\n",
       "      <td>0.6</td>\n",
       "      <td>1.8</td>\n",
       "    </tr>\n",
       "    <tr>\n",
       "      <th>1</th>\n",
       "      <td>0.5</td>\n",
       "      <td>1.0</td>\n",
       "      <td>1.5</td>\n",
       "    </tr>\n",
       "  </tbody>\n",
       "</table>\n",
       "</div>"
      ],
      "text/plain": [
       "     h    r    v\n",
       "0  1.5  0.6  1.8\n",
       "1  0.5  1.0  1.5"
      ]
     },
     "execution_count": 37,
     "metadata": {},
     "output_type": "execute_result"
    }
   ],
   "source": [
    "import datalab.bigquery as bq\n",
    "import tensorflow as tf\n",
    "import numpy as np\n",
    "import shutil\n",
    "print(tf.__version__)\n",
    "\n",
    "from google.datalab.ml import TensorBoard\n",
    "\n",
    "import math\n",
    "import pandas as pd\n",
    "\n",
    "def gen_data(n):\n",
    "  r = np.random.uniform(.5, 2, n)\n",
    "  h = np.random.uniform(.5, 2, n)\n",
    "  v = r ** 2 * h * math.pi\n",
    "  dat = pd.DataFrame({\n",
    "    'r': np.round(r, 1),\n",
    "    'h': np.round(h, 1),\n",
    "    'v': np.round(v, 1)\n",
    "  })\n",
    "  return dat\n",
    "\n",
    "\n",
    "dat = gen_data(5000)\n",
    "dat_eval = gen_data(1000)\n",
    "dat_test = gen_data(1000)\n",
    "\n",
    "dat.head(n = 2)\n"
   ]
  },
  {
   "cell_type": "code",
   "execution_count": 38,
   "metadata": {},
   "outputs": [],
   "source": [
    "## write data to file:\n",
    "dat.to_csv('dat-cyl-train.csv', header = False, index = False)\n",
    "dat_eval.to_csv('dat-cyl-eval.csv', header = False, index = False)\n",
    "dat_test.to_csv('dat-cyl-test.csv', header = False, index = False)"
   ]
  },
  {
   "cell_type": "code",
   "execution_count": 39,
   "metadata": {},
   "outputs": [
    {
     "name": "stdout",
     "output_type": "stream",
     "text": [
      "-rw-r--r-- 1 root root 12229 Feb  1 08:39 dat-cyl-eval.csv\r\n",
      "-rw-r--r-- 1 root root 12238 Feb  1 08:39 dat-cyl-test.csv\r\n",
      "-rw-r--r-- 1 root root 61210 Feb  1 08:39 dat-cyl-train.csv\r\n"
     ]
    }
   ],
   "source": [
    "!ls -l dat-cyl*.csv"
   ]
  },
  {
   "cell_type": "code",
   "execution_count": 40,
   "metadata": {},
   "outputs": [
    {
     "name": "stdout",
     "output_type": "stream",
     "text": [
      "1.5,0.6,1.8\r\n",
      "0.5,1.0,1.5\r\n",
      "1.1,0.8,2.0\r\n",
      "2.0,0.6,2.3\r\n",
      "1.3,1.9,14.7\r\n"
     ]
    }
   ],
   "source": [
    "!head -n 5 dat-cyl-train.csv"
   ]
  },
  {
   "cell_type": "code",
   "execution_count": 41,
   "metadata": {},
   "outputs": [],
   "source": [
    "CSV_COLUMNS = ['h', 'r', 'v']\n",
    "DEFAULTS = [[0.0], [0.0], [0.0]]\n",
    "LABEL_COLUMN = 'v'\n",
    "\n",
    "## create a function to read the dataset from disk:\n",
    "def read_dataset(filename, mode, batch_size = 512):\n",
    "  ## Add CSV decoder function: \n",
    "  def decode_csv(row):\n",
    "    columns = tf.decode_csv(row, record_defaults = DEFAULTS)\n",
    "    features = dict(zip(CSV_COLUMNS, columns))\n",
    "    label = features.pop(LABEL_COLUMN)\n",
    "    return features, label\n",
    "  \n",
    "  ## create dataset:\n",
    "  ## read list of file names:\n",
    "  filenames_dataset = tf.data.Dataset.list_files(filename, shuffle = False)\n",
    "  ## read lines from this dataset list:\n",
    "  textlines_dataset = filenames_dataset.flat_map(\n",
    "    tf.data.TextLineDataset   ## function that returns individual text lines of the file\n",
    "  )\n",
    "  ## then, decode each line:\n",
    "  dataset = textlines_dataset.map(decode_csv)\n",
    "\n",
    "  # Note:\n",
    "  # use tf.data.Dataset.flat_map to apply one to many transformations (here: filename -> text lines)\n",
    "  # use tf.data.Dataset.map      to apply one to one  transformations (here: text line -> feature list)\n",
    "\n",
    "  if mode == tf.estimator.ModeKeys.TRAIN:\n",
    "    num_epochs = None ## loop indefinitely\n",
    "    dataset = dataset.shuffle(buffer_size = 10 * batch_size, seed = 2) ## and shuffle for training\n",
    "  else:\n",
    "    num_epochs = 1 ## only loop once through dataset\n",
    "    \n",
    "  ## repeat data set as needed (training) and form batches of data:\n",
    "  dataset = dataset.repeat(num_epochs).batch(batch_size)\n",
    "  return dataset\n",
    "\n",
    "# ## define function that gets training input, using the read_dataset function above:\n",
    "# ## (not done here; will be done with lambda function later in train_spec and eval_spec)\n",
    "# \n",
    "# def get_train_input_fn():\n",
    "#   return read_dataset('./dat-cyl-train.csv', mode = tf.estimator.ModeKeys.TRAIN)\n",
    "# \n",
    "# def get_valid_input_fn():\n",
    "#   return read_dataset('./dat-cyl-eval.csv', mode = tf.estimator.ModeKeys.EVAL)\n"
   ]
  },
  {
   "cell_type": "code",
   "execution_count": 42,
   "metadata": {},
   "outputs": [],
   "source": [
    "## create input features:\n",
    "INPUT_COLUMNS = [\n",
    "  tf.feature_column.numeric_column('h'),\n",
    "  tf.feature_column.numeric_column('r'),\n",
    "]\n",
    "\n",
    "def add_more_features(feats):\n",
    "  # Nothing to add (yet!)\n",
    "  return feats\n",
    "\n",
    "## currently, don't apply any feature transformations:\n",
    "feature_cols = add_more_features(INPUT_COLUMNS)"
   ]
  },
  {
   "cell_type": "code",
   "execution_count": 43,
   "metadata": {},
   "outputs": [],
   "source": [
    "## create serving input function:\n",
    "\n",
    "def serving_input_fn():\n",
    "  json_feature_placeholders = {\n",
    "    'h' : tf.placeholder(tf.float32, [None]),\n",
    "    'r' : tf.placeholder(tf.float32, [None])\n",
    "  }\n",
    "  \n",
    "  ## transform features here: (not needed for now)\n",
    "  features = json_feature_placeholders\n",
    "  \n",
    "  ## make features a 'ServingInputReceiver' and return it:\n",
    "  ## (this will create a tensorflow node, which reads data\n",
    "  ## consecutively when the graph is executed):\n",
    "  return tf.estimator.export.ServingInputReceiver(features, json_feature_placeholders)"
   ]
  },
  {
   "cell_type": "code",
   "execution_count": 44,
   "metadata": {},
   "outputs": [],
   "source": [
    "## define train_and_evaluate function \n",
    "## for monitoring job with tensorboard:\n",
    "def get_estimator(output_dir):\n",
    "  estimator = tf.estimator.DNNRegressor(\n",
    "    feature_columns = feature_cols, \n",
    "    hidden_units = [4, 8, 4], \n",
    "    model_dir = output_dir)\n",
    "  return estimator\n",
    "\n",
    "def train_and_evaluate(output_dir, num_train_steps):\n",
    "  ## define estimator:\n",
    "  estimator = get_estimator(output_dir)\n",
    "\n",
    "  ## define the train spec, \n",
    "  ## which specifies the input function and max_steps\n",
    "  ## (and possibly some hooks):\n",
    "  train_spec = tf.estimator.TrainSpec(\n",
    "    input_fn = lambda: read_dataset('./dat-cyl-train.csv', \n",
    "                                    mode = tf.estimator.ModeKeys.TRAIN),\n",
    "    max_steps = num_train_steps)\n",
    "  \n",
    "  ## define the exporter, which is needed for understanding\n",
    "  ## json data coming in when model is deployed\n",
    "  ## (serving time inputs); LatestExporter takes the latest\n",
    "  ## checkpoint of the model:\n",
    "  exporter = tf.estimator.LatestExporter('exporter', serving_input_fn)\n",
    "\n",
    "  ## define the eval spec (evaluation data input function):\n",
    "  eval_spec = tf.estimator.EvalSpec(\n",
    "    input_fn = lambda: read_dataset('./dat-cyl-eval.csv', \n",
    "                                    mode = tf.estimator.ModeKeys.EVAL),\n",
    "    steps = None, \n",
    "    start_delay_secs = 1,   # start evaluating after n seconds\n",
    "    throttle_secs = 10,     # evaluate every n seconds\n",
    "    exporters = exporter)   # using the model specified in the exporter (?)\n",
    "  \n",
    "  ## finally, call the train_and_evaluate function in the tensorflow package:\n",
    "  tf.estimator.train_and_evaluate(estimator, train_spec, eval_spec)\n",
    "  "
   ]
  },
  {
   "cell_type": "code",
   "execution_count": 45,
   "metadata": {},
   "outputs": [
    {
     "data": {
      "text/html": [
       "<p>TensorBoard was started successfully with pid 7241. Click <a href=\"/_proxy/51015/\" target=\"_blank\">here</a> to access it.</p>"
      ]
     },
     "metadata": {},
     "output_type": "display_data"
    },
    {
     "data": {
      "text/plain": [
       "7241"
      ]
     },
     "execution_count": 45,
     "metadata": {},
     "output_type": "execute_result"
    }
   ],
   "source": [
    "## monitor with tensorboard:\n",
    "#from google.datalab.ml import TensorBoard\n",
    "\n",
    "OUTDIR = './cyl_trained'\n",
    "TensorBoard().start(OUTDIR)"
   ]
  },
  {
   "cell_type": "code",
   "execution_count": 46,
   "metadata": {},
   "outputs": [
    {
     "name": "stdout",
     "output_type": "stream",
     "text": [
      "INFO:tensorflow:Using default config.\n",
      "INFO:tensorflow:Using config: {'_keep_checkpoint_max': 5, '_evaluation_master': '', '_train_distribute': None, '_cluster_spec': <tensorflow.python.training.server_lib.ClusterSpec object at 0x7f639a17d978>, '_task_type': 'worker', '_num_worker_replicas': 1, '_save_summary_steps': 100, '_task_id': 0, '_log_step_count_steps': 100, '_tf_random_seed': None, '_keep_checkpoint_every_n_hours': 10000, '_session_config': None, '_save_checkpoints_secs': 600, '_model_dir': './cyl_trained', '_global_id_in_cluster': 0, '_master': '', '_save_checkpoints_steps': None, '_num_ps_replicas': 0, '_service': None, '_is_chief': True}\n",
      "INFO:tensorflow:Running training and evaluation locally (non-distributed).\n",
      "INFO:tensorflow:Start train and evaluate loop. The evaluate will happen after 10 secs (eval_spec.throttle_secs) or training is finished.\n",
      "INFO:tensorflow:Calling model_fn.\n",
      "INFO:tensorflow:Done calling model_fn.\n",
      "INFO:tensorflow:Create CheckpointSaverHook.\n",
      "INFO:tensorflow:Graph was finalized.\n",
      "INFO:tensorflow:Running local_init_op.\n",
      "INFO:tensorflow:Done running local_init_op.\n",
      "INFO:tensorflow:Saving checkpoints for 1 into ./cyl_trained/model.ckpt.\n",
      "INFO:tensorflow:step = 1, loss = 34221.426\n",
      "INFO:tensorflow:global_step/sec: 70.5769\n",
      "INFO:tensorflow:step = 101, loss = 5572.2373 (1.426 sec)\n",
      "INFO:tensorflow:global_step/sec: 76.766\n",
      "INFO:tensorflow:step = 201, loss = 1155.5991 (1.302 sec)\n",
      "INFO:tensorflow:global_step/sec: 76.7504\n",
      "INFO:tensorflow:step = 301, loss = 536.80585 (1.301 sec)\n",
      "INFO:tensorflow:global_step/sec: 69.9711\n",
      "INFO:tensorflow:step = 401, loss = 381.6726 (1.431 sec)\n",
      "INFO:tensorflow:global_step/sec: 76.3501\n",
      "INFO:tensorflow:step = 501, loss = 340.34033 (1.310 sec)\n",
      "INFO:tensorflow:global_step/sec: 75.6961\n",
      "INFO:tensorflow:step = 601, loss = 289.51038 (1.321 sec)\n",
      "INFO:tensorflow:Saving checkpoints for 674 into ./cyl_trained/model.ckpt.\n",
      "INFO:tensorflow:Loss for final step: 253.60284.\n",
      "INFO:tensorflow:Calling model_fn.\n",
      "INFO:tensorflow:Done calling model_fn.\n",
      "INFO:tensorflow:Starting evaluation at 2019-02-01-08:40:09\n",
      "INFO:tensorflow:Graph was finalized.\n",
      "INFO:tensorflow:Restoring parameters from ./cyl_trained/model.ckpt-674\n",
      "INFO:tensorflow:Running local_init_op.\n",
      "INFO:tensorflow:Done running local_init_op.\n",
      "INFO:tensorflow:Finished evaluation at 2019-02-01-08:40:09\n",
      "INFO:tensorflow:Saving dict for global step 674: average_loss = 0.586613, global_step = 674, loss = 293.3065\n",
      "INFO:tensorflow:Calling model_fn.\n",
      "INFO:tensorflow:Done calling model_fn.\n",
      "INFO:tensorflow:Signatures INCLUDED in export for Predict: ['predict']\n",
      "INFO:tensorflow:Signatures INCLUDED in export for Classify: None\n",
      "INFO:tensorflow:Signatures INCLUDED in export for Regress: None\n",
      "INFO:tensorflow:Signatures EXCLUDED from export because they cannot be be served via TensorFlow Serving APIs:\n",
      "INFO:tensorflow:'serving_default' : Regression input must be a single string Tensor; got {'r': <tf.Tensor 'Placeholder_1:0' shape=(?,) dtype=float32>, 'h': <tf.Tensor 'Placeholder:0' shape=(?,) dtype=float32>}\n",
      "INFO:tensorflow:'regression' : Regression input must be a single string Tensor; got {'r': <tf.Tensor 'Placeholder_1:0' shape=(?,) dtype=float32>, 'h': <tf.Tensor 'Placeholder:0' shape=(?,) dtype=float32>}\n",
      "WARNING:tensorflow:Export includes no default signature!\n",
      "INFO:tensorflow:Restoring parameters from ./cyl_trained/model.ckpt-674\n",
      "INFO:tensorflow:Assets added to graph.\n",
      "INFO:tensorflow:No assets to write.\n",
      "INFO:tensorflow:SavedModel written to: b\"./cyl_trained/export/exporter/temp-b'1549010410'/saved_model.pb\"\n",
      "INFO:tensorflow:Calling model_fn.\n",
      "INFO:tensorflow:Done calling model_fn.\n",
      "INFO:tensorflow:Create CheckpointSaverHook.\n",
      "INFO:tensorflow:Graph was finalized.\n",
      "INFO:tensorflow:Restoring parameters from ./cyl_trained/model.ckpt-674\n",
      "INFO:tensorflow:Running local_init_op.\n",
      "INFO:tensorflow:Done running local_init_op.\n",
      "INFO:tensorflow:Saving checkpoints for 675 into ./cyl_trained/model.ckpt.\n",
      "INFO:tensorflow:step = 675, loss = 271.79504\n",
      "INFO:tensorflow:global_step/sec: 66.2482\n",
      "INFO:tensorflow:step = 775, loss = 272.97916 (1.520 sec)\n",
      "INFO:tensorflow:global_step/sec: 74.252\n",
      "INFO:tensorflow:step = 875, loss = 243.35667 (1.345 sec)\n",
      "INFO:tensorflow:global_step/sec: 76.2886\n",
      "INFO:tensorflow:step = 975, loss = 267.14334 (1.309 sec)\n",
      "INFO:tensorflow:global_step/sec: 70.3311\n",
      "INFO:tensorflow:step = 1075, loss = 234.11388 (1.424 sec)\n",
      "INFO:tensorflow:global_step/sec: 77.4685\n",
      "INFO:tensorflow:step = 1175, loss = 227.01132 (1.291 sec)\n",
      "INFO:tensorflow:global_step/sec: 77.9372\n",
      "INFO:tensorflow:step = 1275, loss = 202.04016 (1.283 sec)\n",
      "INFO:tensorflow:Saving checkpoints for 1348 into ./cyl_trained/model.ckpt.\n",
      "INFO:tensorflow:Loss for final step: 194.24646.\n",
      "INFO:tensorflow:Calling model_fn.\n",
      "INFO:tensorflow:Done calling model_fn.\n",
      "INFO:tensorflow:Starting evaluation at 2019-02-01-08:40:21\n",
      "INFO:tensorflow:Graph was finalized.\n",
      "INFO:tensorflow:Restoring parameters from ./cyl_trained/model.ckpt-1348\n",
      "INFO:tensorflow:Running local_init_op.\n",
      "INFO:tensorflow:Done running local_init_op.\n",
      "INFO:tensorflow:Finished evaluation at 2019-02-01-08:40:21\n",
      "INFO:tensorflow:Saving dict for global step 1348: average_loss = 0.4264516, global_step = 1348, loss = 213.2258\n",
      "INFO:tensorflow:Calling model_fn.\n",
      "INFO:tensorflow:Done calling model_fn.\n",
      "INFO:tensorflow:Signatures INCLUDED in export for Predict: ['predict']\n",
      "INFO:tensorflow:Signatures INCLUDED in export for Classify: None\n",
      "INFO:tensorflow:Signatures INCLUDED in export for Regress: None\n",
      "INFO:tensorflow:Signatures EXCLUDED from export because they cannot be be served via TensorFlow Serving APIs:\n",
      "INFO:tensorflow:'serving_default' : Regression input must be a single string Tensor; got {'r': <tf.Tensor 'Placeholder_1:0' shape=(?,) dtype=float32>, 'h': <tf.Tensor 'Placeholder:0' shape=(?,) dtype=float32>}\n",
      "INFO:tensorflow:'regression' : Regression input must be a single string Tensor; got {'r': <tf.Tensor 'Placeholder_1:0' shape=(?,) dtype=float32>, 'h': <tf.Tensor 'Placeholder:0' shape=(?,) dtype=float32>}\n",
      "WARNING:tensorflow:Export includes no default signature!\n",
      "INFO:tensorflow:Restoring parameters from ./cyl_trained/model.ckpt-1348\n",
      "INFO:tensorflow:Assets added to graph.\n",
      "INFO:tensorflow:No assets to write.\n",
      "INFO:tensorflow:SavedModel written to: b\"./cyl_trained/export/exporter/temp-b'1549010421'/saved_model.pb\"\n",
      "INFO:tensorflow:Calling model_fn.\n",
      "INFO:tensorflow:Done calling model_fn.\n",
      "INFO:tensorflow:Create CheckpointSaverHook.\n",
      "INFO:tensorflow:Graph was finalized.\n",
      "INFO:tensorflow:Restoring parameters from ./cyl_trained/model.ckpt-1348\n",
      "INFO:tensorflow:Running local_init_op.\n",
      "INFO:tensorflow:Done running local_init_op.\n",
      "INFO:tensorflow:Saving checkpoints for 1349 into ./cyl_trained/model.ckpt.\n",
      "INFO:tensorflow:step = 1349, loss = 203.09676\n",
      "INFO:tensorflow:global_step/sec: 75.0889\n",
      "INFO:tensorflow:step = 1449, loss = 200.65392 (1.339 sec)\n",
      "INFO:tensorflow:global_step/sec: 76.2793\n",
      "INFO:tensorflow:step = 1549, loss = 195.18707 (1.312 sec)\n",
      "INFO:tensorflow:global_step/sec: 76.7846\n",
      "INFO:tensorflow:step = 1649, loss = 214.02191 (1.302 sec)\n",
      "INFO:tensorflow:global_step/sec: 71.0687\n",
      "INFO:tensorflow:step = 1749, loss = 191.27606 (1.407 sec)\n",
      "INFO:tensorflow:global_step/sec: 77.7332\n",
      "INFO:tensorflow:step = 1849, loss = 183.70879 (1.285 sec)\n",
      "INFO:tensorflow:global_step/sec: 79.5412\n",
      "INFO:tensorflow:step = 1949, loss = 166.19757 (1.259 sec)\n",
      "INFO:tensorflow:Saving checkpoints for 2000 into ./cyl_trained/model.ckpt.\n",
      "INFO:tensorflow:Loss for final step: 171.53902.\n",
      "INFO:tensorflow:Calling model_fn.\n",
      "INFO:tensorflow:Done calling model_fn.\n",
      "INFO:tensorflow:Starting evaluation at 2019-02-01-08:40:31\n",
      "INFO:tensorflow:Graph was finalized.\n",
      "INFO:tensorflow:Restoring parameters from ./cyl_trained/model.ckpt-2000\n",
      "INFO:tensorflow:Running local_init_op.\n",
      "INFO:tensorflow:Done running local_init_op.\n",
      "INFO:tensorflow:Finished evaluation at 2019-02-01-08:40:32\n",
      "INFO:tensorflow:Saving dict for global step 2000: average_loss = 0.34380445, global_step = 2000, loss = 171.90222\n",
      "INFO:tensorflow:Calling model_fn.\n",
      "INFO:tensorflow:Done calling model_fn.\n",
      "INFO:tensorflow:Signatures INCLUDED in export for Predict: ['predict']\n",
      "INFO:tensorflow:Signatures INCLUDED in export for Classify: None\n",
      "INFO:tensorflow:Signatures INCLUDED in export for Regress: None\n",
      "INFO:tensorflow:Signatures EXCLUDED from export because they cannot be be served via TensorFlow Serving APIs:\n"
     ]
    },
    {
     "name": "stdout",
     "output_type": "stream",
     "text": [
      "INFO:tensorflow:'serving_default' : Regression input must be a single string Tensor; got {'r': <tf.Tensor 'Placeholder_1:0' shape=(?,) dtype=float32>, 'h': <tf.Tensor 'Placeholder:0' shape=(?,) dtype=float32>}\n",
      "INFO:tensorflow:'regression' : Regression input must be a single string Tensor; got {'r': <tf.Tensor 'Placeholder_1:0' shape=(?,) dtype=float32>, 'h': <tf.Tensor 'Placeholder:0' shape=(?,) dtype=float32>}\n",
      "WARNING:tensorflow:Export includes no default signature!\n",
      "INFO:tensorflow:Restoring parameters from ./cyl_trained/model.ckpt-2000\n",
      "INFO:tensorflow:Assets added to graph.\n",
      "INFO:tensorflow:No assets to write.\n",
      "INFO:tensorflow:SavedModel written to: b\"./cyl_trained/export/exporter/temp-b'1549010432'/saved_model.pb\"\n"
     ]
    }
   ],
   "source": [
    "# Run training    \n",
    "shutil.rmtree(OUTDIR, ignore_errors = True) # start fresh each time\n",
    "train_and_evaluate(OUTDIR, num_train_steps = 2000)"
   ]
  },
  {
   "cell_type": "code",
   "execution_count": 47,
   "metadata": {},
   "outputs": [
    {
     "name": "stdout",
     "output_type": "stream",
     "text": [
      "INFO:tensorflow:Using default config.\n",
      "INFO:tensorflow:Using config: {'_keep_checkpoint_max': 5, '_evaluation_master': '', '_train_distribute': None, '_cluster_spec': <tensorflow.python.training.server_lib.ClusterSpec object at 0x7f6393737470>, '_task_type': 'worker', '_num_worker_replicas': 1, '_save_summary_steps': 100, '_task_id': 0, '_log_step_count_steps': 100, '_tf_random_seed': None, '_keep_checkpoint_every_n_hours': 10000, '_session_config': None, '_save_checkpoints_secs': 600, '_model_dir': './cyl_trained', '_global_id_in_cluster': 0, '_master': '', '_save_checkpoints_steps': None, '_num_ps_replicas': 0, '_service': None, '_is_chief': True}\n"
     ]
    }
   ],
   "source": [
    "## load model from disk:\n",
    "model = get_estimator(OUTDIR)"
   ]
  },
  {
   "cell_type": "code",
   "execution_count": 48,
   "metadata": {},
   "outputs": [
    {
     "name": "stdout",
     "output_type": "stream",
     "text": [
      "INFO:tensorflow:Calling model_fn.\n",
      "INFO:tensorflow:Done calling model_fn.\n",
      "INFO:tensorflow:Starting evaluation at 2019-02-01-08:40:40\n",
      "INFO:tensorflow:Graph was finalized.\n",
      "INFO:tensorflow:Restoring parameters from ./cyl_trained/model.ckpt-2000\n",
      "INFO:tensorflow:Running local_init_op.\n",
      "INFO:tensorflow:Done running local_init_op.\n",
      "INFO:tensorflow:Finished evaluation at 2019-02-01-08:40:40\n",
      "INFO:tensorflow:Saving dict for global step 2000: average_loss = 0.34380445, global_step = 2000, loss = 171.90222\n",
      "RMSE on dataset = 0.5863484144210815\n"
     ]
    }
   ],
   "source": [
    "## RMSE:\n",
    "metrics = model.evaluate(input_fn = lambda: read_dataset('./dat-cyl-eval.csv', \n",
    "                                    mode = tf.estimator.ModeKeys.EVAL), \n",
    "                         steps = None)\n",
    "print('RMSE on dataset = {}'.format(np.sqrt(metrics['average_loss'])))\n"
   ]
  },
  {
   "cell_type": "code",
   "execution_count": 49,
   "metadata": {},
   "outputs": [
    {
     "name": "stdout",
     "output_type": "stream",
     "text": [
      "INFO:tensorflow:Calling model_fn.\n",
      "INFO:tensorflow:Done calling model_fn.\n",
      "INFO:tensorflow:Graph was finalized.\n",
      "INFO:tensorflow:Restoring parameters from ./cyl_trained/model.ckpt-2000\n",
      "INFO:tensorflow:Running local_init_op.\n",
      "INFO:tensorflow:Done running local_init_op.\n"
     ]
    },
    {
     "data": {
      "text/html": [
       "<div>\n",
       "<style scoped>\n",
       "    .dataframe tbody tr th:only-of-type {\n",
       "        vertical-align: middle;\n",
       "    }\n",
       "\n",
       "    .dataframe tbody tr th {\n",
       "        vertical-align: top;\n",
       "    }\n",
       "\n",
       "    .dataframe thead th {\n",
       "        text-align: right;\n",
       "    }\n",
       "</style>\n",
       "<table border=\"1\" class=\"dataframe\">\n",
       "  <thead>\n",
       "    <tr style=\"text-align: right;\">\n",
       "      <th></th>\n",
       "      <th>v_true</th>\n",
       "      <th>v_pred</th>\n",
       "    </tr>\n",
       "  </thead>\n",
       "  <tbody>\n",
       "    <tr>\n",
       "      <th>0</th>\n",
       "      <td>2.6</td>\n",
       "      <td>2.230159</td>\n",
       "    </tr>\n",
       "    <tr>\n",
       "      <th>1</th>\n",
       "      <td>6.2</td>\n",
       "      <td>6.509882</td>\n",
       "    </tr>\n",
       "    <tr>\n",
       "      <th>2</th>\n",
       "      <td>2.6</td>\n",
       "      <td>2.230159</td>\n",
       "    </tr>\n",
       "    <tr>\n",
       "      <th>3</th>\n",
       "      <td>16.4</td>\n",
       "      <td>16.134893</td>\n",
       "    </tr>\n",
       "    <tr>\n",
       "      <th>4</th>\n",
       "      <td>9.6</td>\n",
       "      <td>9.653318</td>\n",
       "    </tr>\n",
       "  </tbody>\n",
       "</table>\n",
       "</div>"
      ],
      "text/plain": [
       "   v_true     v_pred\n",
       "0     2.6   2.230159\n",
       "1     6.2   6.509882\n",
       "2     2.6   2.230159\n",
       "3    16.4  16.134893\n",
       "4     9.6   9.653318"
      ]
     },
     "execution_count": 49,
     "metadata": {},
     "output_type": "execute_result"
    }
   ],
   "source": [
    "## make prediction iterator:\n",
    "pred_iter = model.predict(input_fn = lambda: read_dataset('./dat-cyl-eval.csv', \n",
    "                                    mode = tf.estimator.ModeKeys.EVAL))\n",
    "dat_pred = pd.DataFrame(columns = ['v_true', 'v_pred'])\n",
    "\n",
    "## [[?]]\n",
    "## how to get correct true labels in distributed training?\n",
    "## maybe use different input_fn for predict, starting from a \n",
    "## pandas df for easier data inspection?\n",
    "\n",
    "## predict a few values to get correlation:\n",
    "for i in range(1000):\n",
    "  dat_pred = dat_pred.append({\n",
    "    'v_true' : dat_eval['v'][i],\n",
    "    'v_pred' : next(pred_iter)['predictions'][0]\n",
    "  }, ignore_index = True)\n",
    "  #print(dat_eval['v'][i], next(pred_iter)['predictions'][0])\n",
    "  \n",
    "dat_pred.head(n = 5)"
   ]
  },
  {
   "cell_type": "code",
   "execution_count": 50,
   "metadata": {},
   "outputs": [
    {
     "data": {
      "text/html": [
       "<div>\n",
       "<style scoped>\n",
       "    .dataframe tbody tr th:only-of-type {\n",
       "        vertical-align: middle;\n",
       "    }\n",
       "\n",
       "    .dataframe tbody tr th {\n",
       "        vertical-align: top;\n",
       "    }\n",
       "\n",
       "    .dataframe thead th {\n",
       "        text-align: right;\n",
       "    }\n",
       "</style>\n",
       "<table border=\"1\" class=\"dataframe\">\n",
       "  <thead>\n",
       "    <tr style=\"text-align: right;\">\n",
       "      <th></th>\n",
       "      <th>v_true</th>\n",
       "      <th>v_pred</th>\n",
       "    </tr>\n",
       "  </thead>\n",
       "  <tbody>\n",
       "    <tr>\n",
       "      <th>v_true</th>\n",
       "      <td>1.00000</td>\n",
       "      <td>0.99296</td>\n",
       "    </tr>\n",
       "    <tr>\n",
       "      <th>v_pred</th>\n",
       "      <td>0.99296</td>\n",
       "      <td>1.00000</td>\n",
       "    </tr>\n",
       "  </tbody>\n",
       "</table>\n",
       "</div>"
      ],
      "text/plain": [
       "         v_true   v_pred\n",
       "v_true  1.00000  0.99296\n",
       "v_pred  0.99296  1.00000"
      ]
     },
     "execution_count": 50,
     "metadata": {},
     "output_type": "execute_result"
    }
   ],
   "source": [
    "dat_pred.corr()"
   ]
  },
  {
   "cell_type": "code",
   "execution_count": 51,
   "metadata": {},
   "outputs": [
    {
     "data": {
      "text/html": [
       "<div>\n",
       "<style scoped>\n",
       "    .dataframe tbody tr th:only-of-type {\n",
       "        vertical-align: middle;\n",
       "    }\n",
       "\n",
       "    .dataframe tbody tr th {\n",
       "        vertical-align: top;\n",
       "    }\n",
       "\n",
       "    .dataframe thead th {\n",
       "        text-align: right;\n",
       "    }\n",
       "</style>\n",
       "<table border=\"1\" class=\"dataframe\">\n",
       "  <thead>\n",
       "    <tr style=\"text-align: right;\">\n",
       "      <th></th>\n",
       "      <th>logdir</th>\n",
       "      <th>pid</th>\n",
       "      <th>port</th>\n",
       "    </tr>\n",
       "  </thead>\n",
       "  <tbody>\n",
       "    <tr>\n",
       "      <th>0</th>\n",
       "      <td>./cyl_trained</td>\n",
       "      <td>7241</td>\n",
       "      <td>51015</td>\n",
       "    </tr>\n",
       "  </tbody>\n",
       "</table>\n",
       "</div>"
      ],
      "text/plain": [
       "          logdir   pid   port\n",
       "0  ./cyl_trained  7241  51015"
      ]
     },
     "execution_count": 51,
     "metadata": {},
     "output_type": "execute_result"
    }
   ],
   "source": [
    "# to list Tensorboard instances\n",
    "TensorBoard().list()"
   ]
  },
  {
   "cell_type": "code",
   "execution_count": 52,
   "metadata": {},
   "outputs": [
    {
     "name": "stdout",
     "output_type": "stream",
     "text": [
      "Stopped TensorBoard with pid 7241\n"
     ]
    }
   ],
   "source": [
    "pids_df = TensorBoard.list()\n",
    "if not pids_df.empty:\n",
    "    for pid in pids_df['pid']:\n",
    "        TensorBoard().stop(pid)\n",
    "        print('Stopped TensorBoard with pid {}'.format(pid))"
   ]
  },
  {
   "cell_type": "markdown",
   "metadata": {},
   "source": [
    "Copyright 2017 Google Inc. Licensed under the Apache License, Version 2.0 (the \"License\"); you may not use this file except in compliance with the License. You may obtain a copy of the License at http://www.apache.org/licenses/LICENSE-2.0 Unless required by applicable law or agreed to in writing, software distributed under the License is distributed on an \"AS IS\" BASIS, WITHOUT WARRANTIES OR CONDITIONS OF ANY KIND, either express or implied. See the License for the specific language governing permissions and limitations under the License"
   ]
  }
 ],
 "metadata": {
  "kernelspec": {
   "display_name": "Python 3",
   "language": "python",
   "name": "python3"
  },
  "language_info": {
   "codemirror_mode": {
    "name": "ipython",
    "version": 3
   },
   "file_extension": ".py",
   "mimetype": "text/x-python",
   "name": "python",
   "nbconvert_exporter": "python",
   "pygments_lexer": "ipython3",
   "version": "3.5.6"
  }
 },
 "nbformat": 4,
 "nbformat_minor": 1
}
