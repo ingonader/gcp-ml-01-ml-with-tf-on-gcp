{
 "cells": [
  {
   "cell_type": "markdown",
   "metadata": {},
   "source": [
    "<h1>2b. Machine Learning using tf.estimator </h1>\n",
    "\n",
    "In this notebook, we will create a machine learning model using tf.estimator and evaluate its performance.  The dataset is rather small (7700 samples), so we can do it all in-memory.  We will also simply pass the raw data in as-is. "
   ]
  },
  {
   "cell_type": "code",
   "execution_count": 1,
   "metadata": {},
   "outputs": [
    {
     "name": "stderr",
     "output_type": "stream",
     "text": [
      "/usr/local/envs/py3env/lib/python3.5/site-packages/h5py/__init__.py:36: FutureWarning: Conversion of the second argument of issubdtype from `float` to `np.floating` is deprecated. In future, it will be treated as `np.float64 == np.dtype(float).type`.\n",
      "  from ._conv import register_converters as _register_converters\n"
     ]
    },
    {
     "name": "stdout",
     "output_type": "stream",
     "text": [
      "1.8.0\n"
     ]
    }
   ],
   "source": [
    "import tensorflow as tf\n",
    "import pandas as pd\n",
    "import numpy as np\n",
    "import shutil\n",
    "\n",
    "print(tf.__version__)"
   ]
  },
  {
   "cell_type": "markdown",
   "metadata": {},
   "source": [
    "Read data created in the previous chapter."
   ]
  },
  {
   "cell_type": "code",
   "execution_count": 2,
   "metadata": {},
   "outputs": [],
   "source": [
    "# In CSV, label is the first column, after the features, followed by the key\n",
    "CSV_COLUMNS = ['fare_amount', 'pickuplon','pickuplat','dropofflon','dropofflat','passengers', 'key']\n",
    "FEATURES = CSV_COLUMNS[1:len(CSV_COLUMNS) - 1]\n",
    "LABEL = CSV_COLUMNS[0]\n",
    "\n",
    "df_train = pd.read_csv('./taxi-train.csv', header = None, names = CSV_COLUMNS)\n",
    "df_valid = pd.read_csv('./taxi-valid.csv', header = None, names = CSV_COLUMNS)\n",
    "df_test = pd.read_csv('./taxi-test.csv', header = None, names = CSV_COLUMNS)"
   ]
  },
  {
   "cell_type": "code",
   "execution_count": 3,
   "metadata": {},
   "outputs": [
    {
     "data": {
      "text/html": [
       "<div>\n",
       "<style scoped>\n",
       "    .dataframe tbody tr th:only-of-type {\n",
       "        vertical-align: middle;\n",
       "    }\n",
       "\n",
       "    .dataframe tbody tr th {\n",
       "        vertical-align: top;\n",
       "    }\n",
       "\n",
       "    .dataframe thead th {\n",
       "        text-align: right;\n",
       "    }\n",
       "</style>\n",
       "<table border=\"1\" class=\"dataframe\">\n",
       "  <thead>\n",
       "    <tr style=\"text-align: right;\">\n",
       "      <th></th>\n",
       "      <th>fare_amount</th>\n",
       "      <th>pickuplon</th>\n",
       "      <th>pickuplat</th>\n",
       "      <th>dropofflon</th>\n",
       "      <th>dropofflat</th>\n",
       "      <th>passengers</th>\n",
       "      <th>key</th>\n",
       "    </tr>\n",
       "  </thead>\n",
       "  <tbody>\n",
       "    <tr>\n",
       "      <th>0</th>\n",
       "      <td>12.0</td>\n",
       "      <td>-73.987625</td>\n",
       "      <td>40.750617</td>\n",
       "      <td>-73.971163</td>\n",
       "      <td>40.785180</td>\n",
       "      <td>1</td>\n",
       "      <td>0</td>\n",
       "    </tr>\n",
       "    <tr>\n",
       "      <th>1</th>\n",
       "      <td>4.5</td>\n",
       "      <td>-73.963620</td>\n",
       "      <td>40.774363</td>\n",
       "      <td>-73.953485</td>\n",
       "      <td>40.772665</td>\n",
       "      <td>1</td>\n",
       "      <td>1</td>\n",
       "    </tr>\n",
       "  </tbody>\n",
       "</table>\n",
       "</div>"
      ],
      "text/plain": [
       "   fare_amount  pickuplon  pickuplat  dropofflon  dropofflat  passengers  key\n",
       "0         12.0 -73.987625  40.750617  -73.971163   40.785180           1    0\n",
       "1          4.5 -73.963620  40.774363  -73.953485   40.772665           1    1"
      ]
     },
     "execution_count": 3,
     "metadata": {},
     "output_type": "execute_result"
    }
   ],
   "source": [
    "df_train.head(n = 2)\n",
    "#type(df_train[LABEL])  # pandas.core.series.Series"
   ]
  },
  {
   "cell_type": "markdown",
   "metadata": {},
   "source": [
    "<h2> Train and eval input functions to read from Pandas Dataframe </h2>"
   ]
  },
  {
   "cell_type": "code",
   "execution_count": 4,
   "metadata": {},
   "outputs": [],
   "source": [
    "# TODO: Create an appropriate input_fn to read the training data\n",
    "def make_train_input_fn(df, num_epochs):\n",
    "  return tf.estimator.inputs.pandas_input_fn(\n",
    "    x = df,\n",
    "    y = df[LABEL],\n",
    "    batch_size = 128,\n",
    "    num_epochs = num_epochs,\n",
    "    shuffle = True\n",
    "  )"
   ]
  },
  {
   "cell_type": "code",
   "execution_count": 5,
   "metadata": {},
   "outputs": [],
   "source": [
    "# TODO: Create an appropriate input_fn to read the validation data\n",
    "def make_eval_input_fn(df):\n",
    "  return tf.estimator.inputs.pandas_input_fn(\n",
    "    x = df,\n",
    "    y = df[LABEL],\n",
    "    batch_size = 128,\n",
    "    shuffle = False\n",
    "  )"
   ]
  },
  {
   "cell_type": "markdown",
   "metadata": {},
   "source": [
    "Our input function for predictions is the same except we don't provide a label"
   ]
  },
  {
   "cell_type": "code",
   "execution_count": 6,
   "metadata": {},
   "outputs": [],
   "source": [
    "# TODO: Create an appropriate prediction_input_fn\n",
    "def make_prediction_input_fn(df):\n",
    "  return tf.estimator.inputs.pandas_input_fn(\n",
    "    x = df,\n",
    "    batch_size = 128,\n",
    "    shuffle = False\n",
    "  )"
   ]
  },
  {
   "cell_type": "markdown",
   "metadata": {},
   "source": [
    "### Create feature columns for estimator"
   ]
  },
  {
   "cell_type": "code",
   "execution_count": 7,
   "metadata": {},
   "outputs": [
    {
     "data": {
      "text/html": [
       "<div>\n",
       "<style scoped>\n",
       "    .dataframe tbody tr th:only-of-type {\n",
       "        vertical-align: middle;\n",
       "    }\n",
       "\n",
       "    .dataframe tbody tr th {\n",
       "        vertical-align: top;\n",
       "    }\n",
       "\n",
       "    .dataframe thead th {\n",
       "        text-align: right;\n",
       "    }\n",
       "</style>\n",
       "<table border=\"1\" class=\"dataframe\">\n",
       "  <thead>\n",
       "    <tr style=\"text-align: right;\">\n",
       "      <th></th>\n",
       "      <th>fare_amount</th>\n",
       "      <th>pickuplon</th>\n",
       "      <th>pickuplat</th>\n",
       "      <th>dropofflon</th>\n",
       "      <th>dropofflat</th>\n",
       "      <th>passengers</th>\n",
       "      <th>key</th>\n",
       "    </tr>\n",
       "  </thead>\n",
       "  <tbody>\n",
       "    <tr>\n",
       "      <th>0</th>\n",
       "      <td>12.0</td>\n",
       "      <td>-73.987625</td>\n",
       "      <td>40.750617</td>\n",
       "      <td>-73.971163</td>\n",
       "      <td>40.785180</td>\n",
       "      <td>1</td>\n",
       "      <td>0</td>\n",
       "    </tr>\n",
       "    <tr>\n",
       "      <th>1</th>\n",
       "      <td>4.5</td>\n",
       "      <td>-73.963620</td>\n",
       "      <td>40.774363</td>\n",
       "      <td>-73.953485</td>\n",
       "      <td>40.772665</td>\n",
       "      <td>1</td>\n",
       "      <td>1</td>\n",
       "    </tr>\n",
       "  </tbody>\n",
       "</table>\n",
       "</div>"
      ],
      "text/plain": [
       "   fare_amount  pickuplon  pickuplat  dropofflon  dropofflat  passengers  key\n",
       "0         12.0 -73.987625  40.750617  -73.971163   40.785180           1    0\n",
       "1          4.5 -73.963620  40.774363  -73.953485   40.772665           1    1"
      ]
     },
     "execution_count": 7,
     "metadata": {},
     "output_type": "execute_result"
    }
   ],
   "source": [
    "df_train.head(n = 2)"
   ]
  },
  {
   "cell_type": "code",
   "execution_count": 8,
   "metadata": {},
   "outputs": [],
   "source": [
    "# TODO: Create feature columns\n",
    "featcols = [\n",
    "  tf.feature_column.numeric_column(\"pickuplon\"),\n",
    "  tf.feature_column.numeric_column(\"pickuplat\"),\n",
    "  tf.feature_column.numeric_column(\"dropofflon\"),\n",
    "  tf.feature_column.numeric_column(\"dropofflat\"),\n",
    "  tf.feature_column.numeric_column(\"passengers\")\n",
    "  #tf.feature_column.numeric_column(\"key\")\n",
    "]"
   ]
  },
  {
   "cell_type": "markdown",
   "metadata": {},
   "source": [
    "<h3> Linear Regression with tf.Estimator framework </h3>"
   ]
  },
  {
   "cell_type": "code",
   "execution_count": 9,
   "metadata": {},
   "outputs": [
    {
     "name": "stdout",
     "output_type": "stream",
     "text": [
      "INFO:tensorflow:Using default config.\n",
      "INFO:tensorflow:Using config: {'_save_checkpoints_steps': None, '_session_config': None, '_log_step_count_steps': 100, '_evaluation_master': '', '_keep_checkpoint_max': 5, '_task_id': 0, '_keep_checkpoint_every_n_hours': 10000, '_save_summary_steps': 100, '_service': None, '_save_checkpoints_secs': 600, '_num_ps_replicas': 0, '_cluster_spec': <tensorflow.python.training.server_lib.ClusterSpec object at 0x7f7ddc5e1630>, '_train_distribute': None, '_task_type': 'worker', '_num_worker_replicas': 1, '_is_chief': True, '_model_dir': 'taxi_trained', '_global_id_in_cluster': 0, '_tf_random_seed': None, '_master': ''}\n",
      "INFO:tensorflow:Calling model_fn.\n",
      "INFO:tensorflow:Done calling model_fn.\n",
      "INFO:tensorflow:Create CheckpointSaverHook.\n",
      "INFO:tensorflow:Graph was finalized.\n",
      "INFO:tensorflow:Running local_init_op.\n",
      "INFO:tensorflow:Done running local_init_op.\n",
      "INFO:tensorflow:Saving checkpoints for 1 into taxi_trained/model.ckpt.\n",
      "INFO:tensorflow:step = 1, loss = 20203.531\n",
      "INFO:tensorflow:global_step/sec: 230.265\n",
      "INFO:tensorflow:step = 101, loss = 11225.325 (0.439 sec)\n",
      "INFO:tensorflow:global_step/sec: 272.364\n",
      "INFO:tensorflow:step = 201, loss = 7750.6733 (0.368 sec)\n",
      "INFO:tensorflow:global_step/sec: 297.052\n",
      "INFO:tensorflow:step = 301, loss = 6979.959 (0.335 sec)\n",
      "INFO:tensorflow:global_step/sec: 327.935\n",
      "INFO:tensorflow:step = 401, loss = 9186.672 (0.305 sec)\n",
      "INFO:tensorflow:global_step/sec: 283.432\n",
      "INFO:tensorflow:step = 501, loss = 14741.2705 (0.353 sec)\n",
      "INFO:tensorflow:global_step/sec: 266.497\n",
      "INFO:tensorflow:step = 601, loss = 14850.108 (0.376 sec)\n",
      "INFO:tensorflow:Saving checkpoints for 608 into taxi_trained/model.ckpt.\n",
      "INFO:tensorflow:Loss for final step: 622.85144.\n"
     ]
    },
    {
     "data": {
      "text/plain": [
       "<tensorflow.python.estimator.canned.linear.LinearRegressor at 0x7f7ddc5e14e0>"
      ]
     },
     "execution_count": 9,
     "metadata": {},
     "output_type": "execute_result"
    }
   ],
   "source": [
    "tf.logging.set_verbosity(tf.logging.INFO)\n",
    "\n",
    "OUTDIR = 'taxi_trained'\n",
    "shutil.rmtree(OUTDIR, ignore_errors = True) # start fresh each time\n",
    "\n",
    "# TODO: Train a linear regression model\n",
    "model = tf.estimator.LinearRegressor(featcols, OUTDIR) #ADD CODE HERE\n",
    "\n",
    "model.train(  #ADD CODE HERE\n",
    "  make_train_input_fn(df_train, num_epochs = 10),\n",
    "  max_steps = 100000\n",
    ")"
   ]
  },
  {
   "cell_type": "code",
   "execution_count": 10,
   "metadata": {},
   "outputs": [
    {
     "data": {
      "text/html": [
       "<p>TensorBoard was started successfully with pid 9855. Click <a href=\"/_proxy/38445/\" target=\"_blank\">here</a> to access it.</p>"
      ]
     },
     "metadata": {},
     "output_type": "display_data"
    },
    {
     "data": {
      "text/plain": [
       "9855"
      ]
     },
     "execution_count": 10,
     "metadata": {},
     "output_type": "execute_result"
    }
   ],
   "source": [
    "## start tensorboard:\n",
    "from google.datalab.ml import TensorBoard as tb\n",
    "\n",
    "tb.start(OUTDIR)"
   ]
  },
  {
   "cell_type": "markdown",
   "metadata": {},
   "source": [
    "Evaluate on the validation data (we should defer using the test data to after we have selected a final model)."
   ]
  },
  {
   "cell_type": "code",
   "execution_count": 11,
   "metadata": {},
   "outputs": [
    {
     "name": "stdout",
     "output_type": "stream",
     "text": [
      "INFO:tensorflow:Calling model_fn.\n",
      "INFO:tensorflow:Done calling model_fn.\n",
      "INFO:tensorflow:Starting evaluation at 2019-01-30-15:19:24\n",
      "INFO:tensorflow:Graph was finalized.\n",
      "INFO:tensorflow:Restoring parameters from taxi_trained/model.ckpt-608\n",
      "INFO:tensorflow:Running local_init_op.\n",
      "INFO:tensorflow:Done running local_init_op.\n",
      "INFO:tensorflow:Finished evaluation at 2019-01-30-15:19:24\n",
      "INFO:tensorflow:Saving dict for global step 608: average_loss = 108.94069, global_step = 608, loss = 12956.161\n",
      "RMSE on dataset = 10.43746566772461\n"
     ]
    }
   ],
   "source": [
    "def print_rmse(model, df):\n",
    "  metrics = model.evaluate(input_fn = make_eval_input_fn(df))\n",
    "  #print('RMSE on dataset = {}'.format(name, np.sqrt(metrics['average_loss'])))\n",
    "  print('RMSE on dataset = {}'.format(np.sqrt(metrics['average_loss'])))\n",
    "print_rmse(model, df_valid)"
   ]
  },
  {
   "cell_type": "markdown",
   "metadata": {},
   "source": [
    "This is nowhere near our benchmark (RMSE of $6 or so on this data), but it serves to demonstrate what TensorFlow code looks like.  Let's use this model for prediction."
   ]
  },
  {
   "cell_type": "code",
   "execution_count": 12,
   "metadata": {},
   "outputs": [
    {
     "name": "stdout",
     "output_type": "stream",
     "text": [
      "INFO:tensorflow:Calling model_fn.\n",
      "INFO:tensorflow:Done calling model_fn.\n",
      "INFO:tensorflow:Graph was finalized.\n",
      "INFO:tensorflow:Restoring parameters from taxi_trained/model.ckpt-608\n",
      "INFO:tensorflow:Running local_init_op.\n",
      "INFO:tensorflow:Done running local_init_op.\n",
      "{'predictions': array([11.284742], dtype=float32)}\n",
      "{'predictions': array([11.2821045], dtype=float32)}\n",
      "{'predictions': array([11.282997], dtype=float32)}\n",
      "{'predictions': array([11.28046], dtype=float32)}\n",
      "{'predictions': array([11.28447], dtype=float32)}\n",
      "{'predictions': array([11.284243], dtype=float32)}\n",
      "{'predictions': array([11.282774], dtype=float32)}\n",
      "{'predictions': array([11.282806], dtype=float32)}\n",
      "{'predictions': array([11.284632], dtype=float32)}\n",
      "{'predictions': array([11.282406], dtype=float32)}\n",
      "{'predictions': array([11.284742], dtype=float32)}\n",
      "{'predictions': array([11.284914], dtype=float32)}\n",
      "{'predictions': array([11.277954], dtype=float32)}\n",
      "{'predictions': array([11.282011], dtype=float32)}\n",
      "{'predictions': array([11.343338], dtype=float32)}\n",
      "{'predictions': array([11.28285], dtype=float32)}\n",
      "{'predictions': array([11.283724], dtype=float32)}\n",
      "{'predictions': array([11.344402], dtype=float32)}\n",
      "{'predictions': array([11.284065], dtype=float32)}\n",
      "{'predictions': array([11.281132], dtype=float32)}\n"
     ]
    }
   ],
   "source": [
    "# TODO: Predict from the estimator model we trained using test dataset\n",
    "pred_iter = model.predict(make_prediction_input_fn(df_test))\n",
    "for i in range(20):\n",
    "  print(next(pred_iter))"
   ]
  },
  {
   "cell_type": "markdown",
   "metadata": {},
   "source": [
    "This explains why the RMSE was so high -- the model essentially predicts the same amount for every trip.  Would a more complex model help? Let's try using a deep neural network.  The code to do this is quite straightforward as well."
   ]
  },
  {
   "cell_type": "markdown",
   "metadata": {},
   "source": [
    "<h3> Deep Neural Network regression </h3>"
   ]
  },
  {
   "cell_type": "code",
   "execution_count": 13,
   "metadata": {},
   "outputs": [
    {
     "name": "stdout",
     "output_type": "stream",
     "text": [
      "INFO:tensorflow:Using default config.\n",
      "INFO:tensorflow:Using config: {'_save_checkpoints_steps': None, '_session_config': None, '_log_step_count_steps': 100, '_evaluation_master': '', '_keep_checkpoint_max': 5, '_task_id': 0, '_keep_checkpoint_every_n_hours': 10000, '_save_summary_steps': 100, '_service': None, '_save_checkpoints_secs': 600, '_num_ps_replicas': 0, '_cluster_spec': <tensorflow.python.training.server_lib.ClusterSpec object at 0x7f7db7385518>, '_train_distribute': None, '_task_type': 'worker', '_num_worker_replicas': 1, '_is_chief': True, '_model_dir': 'taxi_trained', '_global_id_in_cluster': 0, '_tf_random_seed': None, '_master': ''}\n",
      "INFO:tensorflow:Calling model_fn.\n",
      "INFO:tensorflow:Done calling model_fn.\n",
      "INFO:tensorflow:Create CheckpointSaverHook.\n",
      "INFO:tensorflow:Graph was finalized.\n",
      "INFO:tensorflow:Running local_init_op.\n",
      "INFO:tensorflow:Done running local_init_op.\n",
      "INFO:tensorflow:Saving checkpoints for 1 into taxi_trained/model.ckpt.\n",
      "INFO:tensorflow:step = 1, loss = 25071.191\n",
      "INFO:tensorflow:global_step/sec: 237.686\n",
      "INFO:tensorflow:step = 101, loss = 24266.252 (0.427 sec)\n",
      "INFO:tensorflow:global_step/sec: 283.493\n",
      "INFO:tensorflow:step = 201, loss = 33176.08 (0.353 sec)\n",
      "INFO:tensorflow:global_step/sec: 273.345\n",
      "INFO:tensorflow:step = 301, loss = 33643.875 (0.367 sec)\n",
      "INFO:tensorflow:global_step/sec: 271.012\n",
      "INFO:tensorflow:step = 401, loss = 22713.027 (0.368 sec)\n",
      "INFO:tensorflow:global_step/sec: 255.771\n",
      "INFO:tensorflow:step = 501, loss = 14937.294 (0.393 sec)\n",
      "INFO:tensorflow:global_step/sec: 252.878\n",
      "INFO:tensorflow:step = 601, loss = 22738.426 (0.392 sec)\n",
      "INFO:tensorflow:global_step/sec: 276.463\n",
      "INFO:tensorflow:step = 701, loss = 17772.79 (0.362 sec)\n",
      "INFO:tensorflow:global_step/sec: 273.874\n",
      "INFO:tensorflow:step = 801, loss = 11999.283 (0.365 sec)\n",
      "INFO:tensorflow:global_step/sec: 261.518\n",
      "INFO:tensorflow:step = 901, loss = 21330.598 (0.383 sec)\n",
      "INFO:tensorflow:global_step/sec: 261.219\n",
      "INFO:tensorflow:step = 1001, loss = 23453.832 (0.383 sec)\n",
      "INFO:tensorflow:global_step/sec: 277.729\n",
      "INFO:tensorflow:step = 1101, loss = 24532.492 (0.361 sec)\n",
      "INFO:tensorflow:global_step/sec: 285.664\n",
      "INFO:tensorflow:step = 1201, loss = 14854.273 (0.350 sec)\n",
      "INFO:tensorflow:global_step/sec: 266.704\n",
      "INFO:tensorflow:step = 1301, loss = 20888.637 (0.376 sec)\n",
      "INFO:tensorflow:global_step/sec: 275.102\n",
      "INFO:tensorflow:step = 1401, loss = 12507.486 (0.367 sec)\n",
      "INFO:tensorflow:global_step/sec: 243.986\n",
      "INFO:tensorflow:step = 1501, loss = 13475.954 (0.406 sec)\n",
      "INFO:tensorflow:global_step/sec: 273.53\n",
      "INFO:tensorflow:step = 1601, loss = 12562.977 (0.366 sec)\n",
      "INFO:tensorflow:global_step/sec: 257.061\n",
      "INFO:tensorflow:step = 1701, loss = 16952.389 (0.389 sec)\n",
      "INFO:tensorflow:global_step/sec: 257.315\n",
      "INFO:tensorflow:step = 1801, loss = 16538.238 (0.389 sec)\n",
      "INFO:tensorflow:Saving checkpoints for 1822 into taxi_trained/model.ckpt.\n",
      "INFO:tensorflow:Loss for final step: 1416.8584.\n"
     ]
    },
    {
     "data": {
      "text/plain": [
       "<tensorflow.python.estimator.canned.dnn.DNNRegressor at 0x7f7db73854a8>"
      ]
     },
     "execution_count": 13,
     "metadata": {},
     "output_type": "execute_result"
    }
   ],
   "source": [
    "# TODO: Copy your LinearRegressor estimator and replace with DNNRegressor. \n",
    "# Remember to add a list of hidden units i.e. [32, 8, 2]\n",
    "\n",
    "tf.logging.set_verbosity(tf.logging.INFO)\n",
    "\n",
    "OUTDIR = 'taxi_trained'\n",
    "shutil.rmtree(OUTDIR, ignore_errors = True) # start fresh each time\n",
    "\n",
    "# TODO: Train a linear regression model\n",
    "model = tf.estimator.DNNRegressor(feature_columns = featcols, hidden_units = [32, 8, 2], model_dir = OUTDIR) #ADD CODE HERE\n",
    "\n",
    "model.train(  #ADD CODE HERE\n",
    "  make_train_input_fn(df_train, num_epochs = 30),\n",
    "  max_steps = 100000\n",
    ")"
   ]
  },
  {
   "cell_type": "code",
   "execution_count": 14,
   "metadata": {},
   "outputs": [
    {
     "name": "stdout",
     "output_type": "stream",
     "text": [
      "INFO:tensorflow:Calling model_fn.\n",
      "INFO:tensorflow:Done calling model_fn.\n",
      "INFO:tensorflow:Starting evaluation at 2019-01-30-15:19:33\n",
      "INFO:tensorflow:Graph was finalized.\n",
      "INFO:tensorflow:Restoring parameters from taxi_trained/model.ckpt-1822\n",
      "INFO:tensorflow:Running local_init_op.\n",
      "INFO:tensorflow:Done running local_init_op.\n",
      "INFO:tensorflow:Finished evaluation at 2019-01-30-15:19:34\n",
      "INFO:tensorflow:Saving dict for global step 1822: average_loss = 169.29991, global_step = 1822, loss = 20134.596\n",
      "RMSE on dataset = 13.011529922485352\n"
     ]
    }
   ],
   "source": [
    "def print_rmse(model, df):\n",
    "  metrics = model.evaluate(input_fn = make_eval_input_fn(df))\n",
    "  #print('RMSE on dataset = {}'.format(name, np.sqrt(metrics['average_loss'])))\n",
    "  print('RMSE on dataset = {}'.format(np.sqrt(metrics['average_loss'])))\n",
    "print_rmse(model, df_valid)"
   ]
  },
  {
   "cell_type": "code",
   "execution_count": 15,
   "metadata": {},
   "outputs": [
    {
     "name": "stdout",
     "output_type": "stream",
     "text": [
      "INFO:tensorflow:Calling model_fn.\n",
      "INFO:tensorflow:Done calling model_fn.\n",
      "INFO:tensorflow:Graph was finalized.\n",
      "INFO:tensorflow:Restoring parameters from taxi_trained/model.ckpt-1822\n",
      "INFO:tensorflow:Running local_init_op.\n",
      "INFO:tensorflow:Done running local_init_op.\n",
      "{'predictions': array([3.8869517], dtype=float32)}\n",
      "{'predictions': array([3.8869517], dtype=float32)}\n",
      "{'predictions': array([3.8869517], dtype=float32)}\n",
      "{'predictions': array([3.8869517], dtype=float32)}\n",
      "{'predictions': array([3.8869517], dtype=float32)}\n",
      "{'predictions': array([3.8869517], dtype=float32)}\n",
      "{'predictions': array([3.8869517], dtype=float32)}\n",
      "{'predictions': array([3.8869517], dtype=float32)}\n",
      "{'predictions': array([3.8869517], dtype=float32)}\n",
      "{'predictions': array([3.8869517], dtype=float32)}\n",
      "{'predictions': array([3.8869517], dtype=float32)}\n",
      "{'predictions': array([3.8869517], dtype=float32)}\n",
      "{'predictions': array([3.8869517], dtype=float32)}\n",
      "{'predictions': array([3.8869517], dtype=float32)}\n",
      "{'predictions': array([3.8869517], dtype=float32)}\n",
      "{'predictions': array([3.8869517], dtype=float32)}\n",
      "{'predictions': array([3.8869517], dtype=float32)}\n",
      "{'predictions': array([3.8869517], dtype=float32)}\n",
      "{'predictions': array([3.8869517], dtype=float32)}\n",
      "{'predictions': array([3.8869517], dtype=float32)}\n"
     ]
    }
   ],
   "source": [
    "pred_iter = model.predict(make_prediction_input_fn(df_test))\n",
    "for i in range(20):\n",
    "  print(next(pred_iter))"
   ]
  },
  {
   "cell_type": "markdown",
   "metadata": {},
   "source": [
    "We are not beating our benchmark with either model ... what's up?  Well, we may be using TensorFlow for Machine Learning, but we are not yet using it well.  That's what the rest of this course is about!\n",
    "\n",
    "But, for the record, let's say we had to choose between the two models. We'd choose the one with the lower validation error. Finally, we'd measure the RMSE on the test data with this chosen model."
   ]
  },
  {
   "cell_type": "markdown",
   "metadata": {},
   "source": [
    "<h2> Benchmark dataset </h2>\n",
    "\n",
    "Let's do this on the benchmark dataset."
   ]
  },
  {
   "cell_type": "code",
   "execution_count": 16,
   "metadata": {},
   "outputs": [
    {
     "data": {
      "text/html": [
       "<div>\n",
       "<style scoped>\n",
       "    .dataframe tbody tr th:only-of-type {\n",
       "        vertical-align: middle;\n",
       "    }\n",
       "\n",
       "    .dataframe tbody tr th {\n",
       "        vertical-align: top;\n",
       "    }\n",
       "\n",
       "    .dataframe thead th {\n",
       "        text-align: right;\n",
       "    }\n",
       "</style>\n",
       "<table border=\"1\" class=\"dataframe\">\n",
       "  <thead>\n",
       "    <tr style=\"text-align: right;\">\n",
       "      <th></th>\n",
       "      <th>fare_amount</th>\n",
       "      <th>dayofweek</th>\n",
       "      <th>hourofday</th>\n",
       "      <th>pickuplon</th>\n",
       "      <th>pickuplat</th>\n",
       "      <th>dropofflon</th>\n",
       "      <th>dropofflat</th>\n",
       "      <th>passengers</th>\n",
       "      <th>key</th>\n",
       "    </tr>\n",
       "  </thead>\n",
       "  <tbody>\n",
       "    <tr>\n",
       "      <th>0</th>\n",
       "      <td>20.83</td>\n",
       "      <td>2.0</td>\n",
       "      <td>0.0</td>\n",
       "      <td>-73.942335</td>\n",
       "      <td>40.788055</td>\n",
       "      <td>-73.912777</td>\n",
       "      <td>40.766587</td>\n",
       "      <td>2.0</td>\n",
       "      <td>2014-08-11 00:45:00+00-73.94233540.78805540.76...</td>\n",
       "    </tr>\n",
       "    <tr>\n",
       "      <th>1</th>\n",
       "      <td>10.00</td>\n",
       "      <td>2.0</td>\n",
       "      <td>0.0</td>\n",
       "      <td>-73.954365</td>\n",
       "      <td>40.770057</td>\n",
       "      <td>-73.975082</td>\n",
       "      <td>40.789892</td>\n",
       "      <td>1.0</td>\n",
       "      <td>2014-08-11 00:45:00+00-73.95436540.77005740.78...</td>\n",
       "    </tr>\n",
       "  </tbody>\n",
       "</table>\n",
       "</div>"
      ],
      "text/plain": [
       "   fare_amount  dayofweek  hourofday  pickuplon  pickuplat  dropofflon  \\\n",
       "0        20.83        2.0        0.0 -73.942335  40.788055  -73.912777   \n",
       "1        10.00        2.0        0.0 -73.954365  40.770057  -73.975082   \n",
       "\n",
       "   dropofflat  passengers                                                key  \n",
       "0   40.766587         2.0  2014-08-11 00:45:00+00-73.94233540.78805540.76...  \n",
       "1   40.789892         1.0  2014-08-11 00:45:00+00-73.95436540.77005740.78...  "
      ]
     },
     "execution_count": 16,
     "metadata": {},
     "output_type": "execute_result"
    }
   ],
   "source": [
    "import google.datalab.bigquery as bq\n",
    "import numpy as np\n",
    "import pandas as pd\n",
    "\n",
    "def create_query(phase, EVERY_N):\n",
    "  \"\"\"\n",
    "  phase: 1 = train 2 = valid\n",
    "  \"\"\"\n",
    "  base_query = \"\"\"\n",
    "SELECT\n",
    "  (tolls_amount + fare_amount) AS fare_amount,\n",
    "  EXTRACT(DAYOFWEEK FROM pickup_datetime) * 1.0 AS dayofweek,\n",
    "  EXTRACT(HOUR FROM pickup_datetime) * 1.0 AS hourofday,\n",
    "  pickup_longitude AS pickuplon,\n",
    "  pickup_latitude AS pickuplat,\n",
    "  dropoff_longitude AS dropofflon,\n",
    "  dropoff_latitude AS dropofflat,\n",
    "  passenger_count * 1.0 AS passengers,\n",
    "  CONCAT(CAST(pickup_datetime AS STRING), CAST(pickup_longitude AS STRING), CAST(pickup_latitude AS STRING), CAST(dropoff_latitude AS STRING), CAST(dropoff_longitude AS STRING)) AS key\n",
    "FROM\n",
    "  `nyc-tlc.yellow.trips`\n",
    "WHERE\n",
    "  trip_distance > 0\n",
    "  AND fare_amount >= 2.5\n",
    "  AND pickup_longitude > -78\n",
    "  AND pickup_longitude < -70\n",
    "  AND dropoff_longitude > -78\n",
    "  AND dropoff_longitude < -70\n",
    "  AND pickup_latitude > 37\n",
    "  AND pickup_latitude < 45\n",
    "  AND dropoff_latitude > 37\n",
    "  AND dropoff_latitude < 45\n",
    "  AND passenger_count > 0\n",
    "  \"\"\"\n",
    "\n",
    "  if EVERY_N == None:\n",
    "    if phase < 2:\n",
    "      # Training\n",
    "      query = \"{0} AND MOD(ABS(FARM_FINGERPRINT(CAST(pickup_datetime AS STRING))), 4) < 2\".format(base_query)\n",
    "    else:\n",
    "      # Validation\n",
    "      query = \"{0} AND MOD(ABS(FARM_FINGERPRINT(CAST(pickup_datetime AS STRING))), 4) = {1}\".format(base_query, phase)\n",
    "  else:\n",
    "    query = \"{0} AND MOD(ABS(FARM_FINGERPRINT(CAST(pickup_datetime AS STRING))), {1}) = {2}\".format(base_query, EVERY_N, phase)\n",
    "    \n",
    "  return query\n",
    "\n",
    "query = create_query(2, 100000)\n",
    "df = bq.Query(query).execute().result().to_dataframe()\n",
    "df.head(n = 2)"
   ]
  },
  {
   "cell_type": "code",
   "execution_count": 17,
   "metadata": {},
   "outputs": [
    {
     "name": "stdout",
     "output_type": "stream",
     "text": [
      "INFO:tensorflow:Calling model_fn.\n",
      "INFO:tensorflow:Done calling model_fn.\n",
      "INFO:tensorflow:Starting evaluation at 2019-01-30-15:19:39\n",
      "INFO:tensorflow:Graph was finalized.\n",
      "INFO:tensorflow:Restoring parameters from taxi_trained/model.ckpt-1822\n",
      "INFO:tensorflow:Running local_init_op.\n",
      "INFO:tensorflow:Done running local_init_op.\n",
      "INFO:tensorflow:Finished evaluation at 2019-01-30-15:19:39\n",
      "INFO:tensorflow:Saving dict for global step 1822: average_loss = 142.8552, global_step = 1822, loss = 18150.914\n",
      "RMSE on dataset = 11.952204704284668\n"
     ]
    }
   ],
   "source": [
    "print_rmse(model, df)"
   ]
  },
  {
   "cell_type": "markdown",
   "metadata": {},
   "source": [
    "RMSE on benchmark dataset is <b>9.41</b> (your results will vary because of random seeds).\n",
    "\n",
    "This is not only way more than our original benchmark of 6.00, but it doesn't even beat our distance-based rule's RMSE of 8.02.\n",
    "\n",
    "Fear not -- you have learned how to write a TensorFlow model, but not to do all the things that you will have to do to your ML model performant. We will do this in the next chapters. In this chapter though, we will get our TensorFlow model ready for these improvements.\n",
    "\n",
    "In a software sense, the rest of the labs in this chapter will be about refactoring the code so that we can improve it."
   ]
  },
  {
   "cell_type": "markdown",
   "metadata": {},
   "source": [
    "## Challenge Exercise\n",
    "\n",
    "Create a neural network that is capable of finding the volume of a cylinder given the radius of its base (r) and its height (h). Assume that the radius and height of the cylinder are both in the range 0.5 to 2.0. Simulate the necessary training dataset.\n",
    "<p>\n",
    "Hint (highlight to see):\n",
    "<p style='color:white'>\n",
    "The input features will be r and h and the label will be $\\pi r^2 h$\n",
    "Create random values for r and h and compute V.\n",
    "Your dataset will consist of r, h and V.\n",
    "Then, use a DNN regressor.\n",
    "Make sure to generate enough data.\n",
    "</p>"
   ]
  },
  {
   "cell_type": "code",
   "execution_count": 18,
   "metadata": {},
   "outputs": [
    {
     "data": {
      "text/html": [
       "<div>\n",
       "<style scoped>\n",
       "    .dataframe tbody tr th:only-of-type {\n",
       "        vertical-align: middle;\n",
       "    }\n",
       "\n",
       "    .dataframe tbody tr th {\n",
       "        vertical-align: top;\n",
       "    }\n",
       "\n",
       "    .dataframe thead th {\n",
       "        text-align: right;\n",
       "    }\n",
       "</style>\n",
       "<table border=\"1\" class=\"dataframe\">\n",
       "  <thead>\n",
       "    <tr style=\"text-align: right;\">\n",
       "      <th></th>\n",
       "      <th>h</th>\n",
       "      <th>r</th>\n",
       "      <th>v</th>\n",
       "    </tr>\n",
       "  </thead>\n",
       "  <tbody>\n",
       "    <tr>\n",
       "      <th>0</th>\n",
       "      <td>0.901820</td>\n",
       "      <td>0.571924</td>\n",
       "      <td>0.926715</td>\n",
       "    </tr>\n",
       "    <tr>\n",
       "      <th>1</th>\n",
       "      <td>0.991034</td>\n",
       "      <td>0.551736</td>\n",
       "      <td>0.947767</td>\n",
       "    </tr>\n",
       "  </tbody>\n",
       "</table>\n",
       "</div>"
      ],
      "text/plain": [
       "          h         r         v\n",
       "0  0.901820  0.571924  0.926715\n",
       "1  0.991034  0.551736  0.947767"
      ]
     },
     "execution_count": 18,
     "metadata": {},
     "output_type": "execute_result"
    }
   ],
   "source": [
    "import math\n",
    "\n",
    "def gen_data(n):\n",
    "  r = np.random.uniform(.5, 2, n)\n",
    "  h = np.random.uniform(.5, 2, n)\n",
    "  v = r ** 2 * h * math.pi\n",
    "  dat = pd.DataFrame({\n",
    "    'r': r,\n",
    "    'h': h,\n",
    "    'v': v\n",
    "  })\n",
    "  return dat\n",
    "\n",
    "\n",
    "dat = gen_data(10000)\n",
    "dat_eval = gen_data(1000)\n",
    "dat_test = gen_data(1000)\n",
    "\n",
    "dat.head(n = 2)"
   ]
  },
  {
   "cell_type": "code",
   "execution_count": 19,
   "metadata": {},
   "outputs": [
    {
     "name": "stdout",
     "output_type": "stream",
     "text": [
      "INFO:tensorflow:Using default config.\n",
      "INFO:tensorflow:Using config: {'_save_checkpoints_steps': None, '_session_config': None, '_log_step_count_steps': 100, '_evaluation_master': '', '_keep_checkpoint_max': 5, '_task_id': 0, '_keep_checkpoint_every_n_hours': 10000, '_save_summary_steps': 100, '_service': None, '_save_checkpoints_secs': 600, '_num_ps_replicas': 0, '_cluster_spec': <tensorflow.python.training.server_lib.ClusterSpec object at 0x7f7db7086ac8>, '_train_distribute': None, '_task_type': 'worker', '_num_worker_replicas': 1, '_is_chief': True, '_model_dir': 'taxi_trained', '_global_id_in_cluster': 0, '_tf_random_seed': None, '_master': ''}\n",
      "INFO:tensorflow:Calling model_fn.\n",
      "INFO:tensorflow:Done calling model_fn.\n",
      "INFO:tensorflow:Create CheckpointSaverHook.\n",
      "INFO:tensorflow:Graph was finalized.\n",
      "INFO:tensorflow:Running local_init_op.\n",
      "INFO:tensorflow:Done running local_init_op.\n",
      "INFO:tensorflow:Saving checkpoints for 1 into taxi_trained/model.ckpt.\n",
      "INFO:tensorflow:step = 1, loss = 7547.915\n",
      "INFO:tensorflow:global_step/sec: 327.398\n",
      "INFO:tensorflow:step = 101, loss = 1899.795 (0.309 sec)\n",
      "INFO:tensorflow:global_step/sec: 407.483\n",
      "INFO:tensorflow:step = 201, loss = 1403.0806 (0.245 sec)\n",
      "INFO:tensorflow:global_step/sec: 386.033\n",
      "INFO:tensorflow:step = 301, loss = 1468.6672 (0.258 sec)\n",
      "INFO:tensorflow:global_step/sec: 392.165\n",
      "INFO:tensorflow:step = 401, loss = 1179.2456 (0.255 sec)\n",
      "INFO:tensorflow:global_step/sec: 382.316\n",
      "INFO:tensorflow:step = 501, loss = 550.0614 (0.261 sec)\n",
      "INFO:tensorflow:global_step/sec: 434.016\n",
      "INFO:tensorflow:step = 601, loss = 424.03467 (0.230 sec)\n",
      "INFO:tensorflow:global_step/sec: 412.335\n",
      "INFO:tensorflow:step = 701, loss = 302.8852 (0.243 sec)\n",
      "INFO:tensorflow:Saving checkpoints for 782 into taxi_trained/model.ckpt.\n",
      "INFO:tensorflow:Loss for final step: 124.98418.\n"
     ]
    },
    {
     "data": {
      "text/plain": [
       "<tensorflow.python.estimator.canned.dnn.DNNRegressor at 0x7f7db7086128>"
      ]
     },
     "execution_count": 19,
     "metadata": {},
     "output_type": "execute_result"
    }
   ],
   "source": [
    "FEATURES = ['h', 'r']\n",
    "LABEL = 'v'\n",
    "\n",
    "featcols = [\n",
    "  tf.feature_column.numeric_column(\"h\"),\n",
    "  tf.feature_column.numeric_column(\"r\")\n",
    "]\n",
    "\n",
    "def make_train_input_fn(df, num_epochs):\n",
    "  return tf.estimator.inputs.pandas_input_fn(\n",
    "    x = df,\n",
    "    y = df[LABEL],\n",
    "    batch_size = 128,\n",
    "    num_epochs = num_epochs,\n",
    "    shuffle = True\n",
    "  )\n",
    "\n",
    "def make_eval_input_fn(df):\n",
    "  return tf.estimator.inputs.pandas_input_fn(\n",
    "    x = df,\n",
    "    y = df[LABEL],\n",
    "    batch_size = 128,\n",
    "    shuffle = False\n",
    "  )\n",
    "\n",
    "def make_prediction_input_fn(df):\n",
    "  return tf.estimator.inputs.pandas_input_fn(\n",
    "    x = df,\n",
    "    batch_size = 128,\n",
    "    shuffle = False\n",
    "  )\n",
    "\n",
    "tf.logging.set_verbosity(tf.logging.INFO)\n",
    "#tf.logging.set_verbosity(tf.logging.WARN)\n",
    "\n",
    "OUTDIR = 'taxi_trained'\n",
    "shutil.rmtree(OUTDIR, ignore_errors = True) # start fresh each time\n",
    "\n",
    "# TODO: Train a linear regression model\n",
    "#model = tf.estimator.LinearRegressor(featcols, OUTDIR) #ADD CODE HERE\n",
    "model = tf.estimator.DNNRegressor(feature_columns = featcols, hidden_units = [4, 8, 4], model_dir = OUTDIR) #ADD CODE HERE\n",
    "\n",
    "model.train(  #ADD CODE HERE\n",
    "  make_train_input_fn(dat, num_epochs = 10), \n",
    "  max_steps = 100000\n",
    ")"
   ]
  },
  {
   "cell_type": "code",
   "execution_count": 20,
   "metadata": {},
   "outputs": [
    {
     "name": "stdout",
     "output_type": "stream",
     "text": [
      "INFO:tensorflow:Calling model_fn.\n",
      "INFO:tensorflow:Done calling model_fn.\n",
      "INFO:tensorflow:Starting evaluation at 2019-01-30-15:19:43\n",
      "INFO:tensorflow:Graph was finalized.\n",
      "INFO:tensorflow:Restoring parameters from taxi_trained/model.ckpt-782\n",
      "INFO:tensorflow:Running local_init_op.\n",
      "INFO:tensorflow:Done running local_init_op.\n",
      "INFO:tensorflow:Finished evaluation at 2019-01-30-15:19:43\n",
      "INFO:tensorflow:Saving dict for global step 782: average_loss = 2.6818922, global_step = 782, loss = 335.2365\n",
      "RMSE on dataset = 1.637648344039917\n"
     ]
    }
   ],
   "source": [
    "## RMSE:\n",
    "def print_rmse(model, df):\n",
    "  metrics = model.evaluate(input_fn = make_eval_input_fn(df))\n",
    "  #print('RMSE on dataset = {}'.format(name, np.sqrt(metrics['average_loss'])))\n",
    "  print('RMSE on dataset = {}'.format(np.sqrt(metrics['average_loss'])))\n",
    "print_rmse(model, dat_eval)\n"
   ]
  },
  {
   "cell_type": "code",
   "execution_count": 21,
   "metadata": {},
   "outputs": [
    {
     "name": "stdout",
     "output_type": "stream",
     "text": [
      "INFO:tensorflow:Calling model_fn.\n",
      "INFO:tensorflow:Done calling model_fn.\n",
      "INFO:tensorflow:Graph was finalized.\n",
      "INFO:tensorflow:Restoring parameters from taxi_trained/model.ckpt-782\n",
      "INFO:tensorflow:Running local_init_op.\n",
      "INFO:tensorflow:Done running local_init_op.\n"
     ]
    },
    {
     "data": {
      "text/html": [
       "<div>\n",
       "<style scoped>\n",
       "    .dataframe tbody tr th:only-of-type {\n",
       "        vertical-align: middle;\n",
       "    }\n",
       "\n",
       "    .dataframe tbody tr th {\n",
       "        vertical-align: top;\n",
       "    }\n",
       "\n",
       "    .dataframe thead th {\n",
       "        text-align: right;\n",
       "    }\n",
       "</style>\n",
       "<table border=\"1\" class=\"dataframe\">\n",
       "  <thead>\n",
       "    <tr style=\"text-align: right;\">\n",
       "      <th></th>\n",
       "      <th>v_true</th>\n",
       "      <th>v_pred</th>\n",
       "    </tr>\n",
       "  </thead>\n",
       "  <tbody>\n",
       "    <tr>\n",
       "      <th>0</th>\n",
       "      <td>4.086859</td>\n",
       "      <td>4.503190</td>\n",
       "    </tr>\n",
       "    <tr>\n",
       "      <th>1</th>\n",
       "      <td>15.182077</td>\n",
       "      <td>13.600115</td>\n",
       "    </tr>\n",
       "  </tbody>\n",
       "</table>\n",
       "</div>"
      ],
      "text/plain": [
       "      v_true     v_pred\n",
       "0   4.086859   4.503190\n",
       "1  15.182077  13.600115"
      ]
     },
     "execution_count": 21,
     "metadata": {},
     "output_type": "execute_result"
    }
   ],
   "source": [
    "## predict some values and get correlation:\n",
    "pred_iter = model.predict(make_prediction_input_fn(dat_eval))\n",
    "dat_pred = pd.DataFrame(columns = ['v_true', 'v_pred'])\n",
    "for i in range(20):\n",
    "  dat_pred = dat_pred.append({\n",
    "    'v_true' : dat_eval['v'][i],\n",
    "    'v_pred' : next(pred_iter)['predictions'][0]\n",
    "  }, ignore_index = True)\n",
    "  #print(dat_eval['v'][i], next(pred_iter)['predictions'][0])\n",
    "  \n",
    "dat_pred.head(n = 2)"
   ]
  },
  {
   "cell_type": "code",
   "execution_count": 22,
   "metadata": {},
   "outputs": [
    {
     "data": {
      "text/html": [
       "<div>\n",
       "<style scoped>\n",
       "    .dataframe tbody tr th:only-of-type {\n",
       "        vertical-align: middle;\n",
       "    }\n",
       "\n",
       "    .dataframe tbody tr th {\n",
       "        vertical-align: top;\n",
       "    }\n",
       "\n",
       "    .dataframe thead th {\n",
       "        text-align: right;\n",
       "    }\n",
       "</style>\n",
       "<table border=\"1\" class=\"dataframe\">\n",
       "  <thead>\n",
       "    <tr style=\"text-align: right;\">\n",
       "      <th></th>\n",
       "      <th>v_true</th>\n",
       "      <th>v_pred</th>\n",
       "    </tr>\n",
       "  </thead>\n",
       "  <tbody>\n",
       "    <tr>\n",
       "      <th>v_true</th>\n",
       "      <td>1.000000</td>\n",
       "      <td>0.962237</td>\n",
       "    </tr>\n",
       "    <tr>\n",
       "      <th>v_pred</th>\n",
       "      <td>0.962237</td>\n",
       "      <td>1.000000</td>\n",
       "    </tr>\n",
       "  </tbody>\n",
       "</table>\n",
       "</div>"
      ],
      "text/plain": [
       "          v_true    v_pred\n",
       "v_true  1.000000  0.962237\n",
       "v_pred  0.962237  1.000000"
      ]
     },
     "execution_count": 22,
     "metadata": {},
     "output_type": "execute_result"
    }
   ],
   "source": [
    "dat_pred.corr()"
   ]
  },
  {
   "cell_type": "markdown",
   "metadata": {},
   "source": [
    "Copyright 2017 Google Inc. Licensed under the Apache License, Version 2.0 (the \"License\"); you may not use this file except in compliance with the License. You may obtain a copy of the License at http://www.apache.org/licenses/LICENSE-2.0 Unless required by applicable law or agreed to in writing, software distributed under the License is distributed on an \"AS IS\" BASIS, WITHOUT WARRANTIES OR CONDITIONS OF ANY KIND, either express or implied. See the License for the specific language governing permissions and limitations under the License"
   ]
  }
 ],
 "metadata": {
  "kernelspec": {
   "display_name": "Python 3",
   "language": "python",
   "name": "python3"
  },
  "language_info": {
   "codemirror_mode": {
    "name": "ipython",
    "version": 3
   },
   "file_extension": ".py",
   "mimetype": "text/x-python",
   "name": "python",
   "nbconvert_exporter": "python",
   "pygments_lexer": "ipython3",
   "version": "3.5.6"
  }
 },
 "nbformat": 4,
 "nbformat_minor": 1
}
