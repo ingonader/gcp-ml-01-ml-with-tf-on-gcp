{
 "cells": [
  {
   "cell_type": "markdown",
   "metadata": {},
   "source": [
    "<h1> Time series prediction using RNNs, with TensorFlow and Cloud ML Engine </h1>\n",
    "\n",
    "This notebook illustrates:\n",
    "<ol>\n",
    "<li> Creating a Recurrent Neural Network in TensorFlow\n",
    "<li> Creating a Custom Estimator in tf.estimator\n",
    "<li> Training on Cloud ML Engine\n",
    "</ol>\n",
    "\n",
    "<p>\n",
    "\n",
    "<h3> Simulate some time-series data </h3>\n",
    "\n",
    "Essentially a set of sinusoids with random amplitudes and frequencies."
   ]
  },
  {
   "cell_type": "code",
   "execution_count": 1,
   "metadata": {},
   "outputs": [],
   "source": [
    "import os\n",
    "PROJECT = 'cloud-training-demos' # REPLACE WITH YOUR PROJECT ID\n",
    "BUCKET = 'cloud-training-demos-ml' # REPLACE WITH YOUR BUCKET NAME\n",
    "REGION = 'us-central1' # REPLACE WITH YOUR BUCKET REGION e.g. us-central1\n",
    "os.environ['TFVERSION'] = '1.8'  # Tensorflow version"
   ]
  },
  {
   "cell_type": "code",
   "execution_count": 2,
   "metadata": {},
   "outputs": [
    {
     "name": "stdout",
     "output_type": "stream",
     "text": [
      "qwiklabs-gcp-f02acd9ef76999dd\n",
      "inna-bckt-f02acd9ef76999dd\n",
      "gsutil mb -l europe-west1 gs://inna-bckt-f02acd9ef76999dd\n",
      "[]\n",
      "[]\n"
     ]
    }
   ],
   "source": [
    "import os\n",
    "output = os.popen(\"gcloud config get-value project\").readlines()\n",
    "project_name = output[0][:-1]\n",
    "\n",
    "# change these to try this notebook out\n",
    "PROJECT = project_name\n",
    "BUCKET = project_name\n",
    "BUCKET = BUCKET.replace(\"qwiklabs-gcp-\", \"inna-bckt-\")\n",
    "REGION = 'europe-west1'  ## note: Cloud ML Engine not availabe in europe-west3!\n",
    "\n",
    "# set environment variables:\n",
    "os.environ['BUCKET'] = BUCKET\n",
    "os.environ['PROJECT'] = PROJECT\n",
    "os.environ['REGION'] = REGION\n",
    "\n",
    "print(PROJECT)\n",
    "print(BUCKET)\n",
    "print(\"gsutil mb -l {0} gs://{1}\".format(REGION, BUCKET))\n",
    "\n",
    "## set config for gcp config: [[?]]\n",
    "print(os.popen(\"gcloud config set project $PROJECT\").readlines())\n",
    "print(os.popen(\"gcloud config set compute/region $REGION\").readlines())"
   ]
  },
  {
   "cell_type": "code",
   "execution_count": 3,
   "metadata": {},
   "outputs": [
    {
     "name": "stderr",
     "output_type": "stream",
     "text": [
      "Updated property [core/project].\n",
      "Updated property [compute/region].\n"
     ]
    }
   ],
   "source": [
    "%%bash\n",
    "gcloud config set project $PROJECT\n",
    "gcloud config set compute/region $REGION"
   ]
  },
  {
   "cell_type": "code",
   "execution_count": 4,
   "metadata": {},
   "outputs": [
    {
     "name": "stderr",
     "output_type": "stream",
     "text": [
      "/usr/local/envs/py3env/lib/python3.5/site-packages/h5py/__init__.py:36: FutureWarning: Conversion of the second argument of issubdtype from `float` to `np.floating` is deprecated. In future, it will be treated as `np.float64 == np.dtype(float).type`.\n",
      "  from ._conv import register_converters as _register_converters\n"
     ]
    },
    {
     "name": "stdout",
     "output_type": "stream",
     "text": [
      "1.8.0\n"
     ]
    }
   ],
   "source": [
    "import tensorflow as tf\n",
    "print(tf.__version__)"
   ]
  },
  {
   "cell_type": "code",
   "execution_count": 5,
   "metadata": {},
   "outputs": [
    {
     "name": "stderr",
     "output_type": "stream",
     "text": [
      "/usr/local/envs/py3env/lib/python3.5/site-packages/matplotlib/font_manager.py:1320: UserWarning: findfont: Font family ['sans-serif'] not found. Falling back to DejaVu Sans\n",
      "  (prop.get_family(), self.defaultFamily[fontext]))\n"
     ]
    },
    {
     "data": {
      "image/png": "[encoded data removed]",
      "text/plain": [
       "<matplotlib.figure.Figure at 0x7f0fd4fb1780>"
      ]
     },
     "metadata": {},
     "output_type": "display_data"
    }
   ],
   "source": [
    "import numpy as np\n",
    "import seaborn as sns\n",
    "import pandas as pd\n",
    "\n",
    "SEQ_LEN = 10\n",
    "def create_time_series():\n",
    "  freq = (np.random.random() * 0.5) + 0.1  # 0.1 to 0.6\n",
    "  ampl = np.random.random() + 0.5  # 0.5 to 1.5\n",
    "  x = np.sin(np.arange(0, SEQ_LEN) * freq) * ampl\n",
    "  return x\n",
    "\n",
    "for i in range(0, 5):\n",
    "  sns.tsplot( create_time_series() );  # 5 series"
   ]
  },
  {
   "cell_type": "code",
   "execution_count": 6,
   "metadata": {},
   "outputs": [],
   "source": [
    "def to_csv(filename, N):\n",
    "  with open(filename, 'w') as ofp:\n",
    "    for lineno in range(0, N):\n",
    "      seq = create_time_series()\n",
    "      line = \",\".join(map(str, seq))\n",
    "      ofp.write(line + '\\n')\n",
    "\n",
    "to_csv('train.csv', 1000)  # 1000 sequences\n",
    "to_csv('valid.csv',  50)"
   ]
  },
  {
   "cell_type": "code",
   "execution_count": 7,
   "metadata": {},
   "outputs": [
    {
     "name": "stdout",
     "output_type": "stream",
     "text": [
      "==> train.csv <==\r\n",
      "0.0,0.2328693639946631,0.45088474054248695,0.6401396302615542,0.788562072684775,0.8866846777752428,0.9282485202743381,0.9106023764052049,0.8348718369068774,0.7058875092227475\r\n",
      "0.0,0.5508825816799895,1.0079155279338634,1.2932376450879297,1.3582407949210529,1.1918508899302604,0.8224145005849797,0.3128696677785346,-0.24997636792192812,-0.7702358492915704\r\n",
      "0.0,0.12727874317655016,0.25310211789209,0.3760313970925278,0.49466094625148477,0.6076342960946665,0.7136596531442853,0.811524670728255,0.9001103115550908,0.9784036433429348\r\n",
      "0.0,0.3597965549664248,0.6976275156895054,0.992868288343504,1.2274944118081232,1.387181951749435,1.4621819773907236,1.4479157341309872,1.345254176698654,1.16046479733016\r\n",
      "0.0,0.7206418519158789,1.2195929512260606,1.3433611791680253,1.053871767355534,0.44018022291112224,-0.3089237800796212,-0.9629936893363208,-1.3208182512322815,-1.2723200449007792\r\n",
      "\r\n",
      "==> valid.csv <==\r\n",
      "0.0,0.2514743030105894,0.48600631903309094,0.6877951941600553,0.8432460401962444,0.9418858473169712,0.9770690700303825,0.9464253498177738,0.8520192105529933,0.7002109677263832\r\n",
      "0.0,0.16026888137479806,0.3180761079298151,0.470997834708294,0.6166852557377692,0.752900680587745,0.8775519042447834,0.9887243423998479,1.084710438564969,1.164035891339713\r\n",
      "0.0,0.3418562407615475,0.6579149777516976,0.9243254646996697,1.1209835621389155,1.2330488564526958,1.2520645622792392,1.1765956970607223,1.0123373691583688,0.7716850077856541\r\n",
      "0.0,0.18994407546666447,0.3631394822427117,0.5043143963467835,0.6010204597137694,0.6447304370944088,0.6315901207287384,0.5627581822139524,0.44430400450229446,0.2866725028807394\r\n",
      "0.0,0.08715631165845963,0.1726800407021273,0.25496918550275594,0.3324823335724689,0.4037675347822579,0.4674894988017667,0.5224546073071001,0.5676332724364221,0.6021792226822982\r\n"
     ]
    }
   ],
   "source": [
    "!head -5 train.csv valid.csv"
   ]
  },
  {
   "cell_type": "markdown",
   "metadata": {},
   "source": [
    "<h2> RNN </h2>\n",
    "\n",
    "For more info, see:\n",
    "<ol>\n",
    "<li> http://colah.github.io/posts/2015-08-Understanding-LSTMs/ for the theory\n",
    "<li> https://www.tensorflow.org/tutorials/recurrent for explanations\n",
    "<li> https://github.com/tensorflow/models/tree/master/tutorials/rnn/ptb for sample code\n",
    "</ol>\n",
    "\n",
    "Here, we are trying to predict from 9 values of a timeseries, the tenth value.\n",
    "\n",
    "<p>\n",
    "\n",
    "<h3> Imports </h3>\n",
    "\n",
    "Several tensorflow packages and shutil"
   ]
  },
  {
   "cell_type": "code",
   "execution_count": 8,
   "metadata": {},
   "outputs": [],
   "source": [
    "import tensorflow as tf\n",
    "import shutil\n",
    "import tensorflow.contrib.metrics as metrics\n",
    "import tensorflow.contrib.rnn as rnn"
   ]
  },
  {
   "cell_type": "markdown",
   "metadata": {},
   "source": [
    "<h3> Input Fn to read CSV </h3>\n",
    "\n",
    "Our CSV file structure is quite simple -- a bunch of floating point numbers (note the type of DEFAULTS). We ask for the data to be read BATCH_SIZE sequences at a time.  The Estimator API in tf.contrib.learn wants the features returned as a dict. We'll just call this timeseries column 'rawdata'.\n",
    "<p>\n",
    "Our CSV file sequences consist of 10 numbers. We'll assume that 9 of them are inputs and we need to predict the last one."
   ]
  },
  {
   "cell_type": "code",
   "execution_count": 9,
   "metadata": {},
   "outputs": [],
   "source": [
    "DEFAULTS = [[0.0] for x in range(0, SEQ_LEN)]\n",
    "BATCH_SIZE = 20\n",
    "TIMESERIES_COL = 'rawdata'\n",
    "# In each sequence, column index 0 to N_INPUTS - 1 are features, and column index N_INPUTS to SEQ_LEN are labels\n",
    "N_OUTPUTS = 1\n",
    "N_INPUTS = SEQ_LEN - N_OUTPUTS"
   ]
  },
  {
   "cell_type": "markdown",
   "metadata": {},
   "source": [
    "Reading data using the Estimator API in tf.estimator requires an input_fn. This input_fn needs to return a dict of features and the corresponding labels.\n",
    "<p>\n",
    "So, we read the CSV file.  The Tensor format here will be a scalar -- entire line.  We then decode the CSV. At this point, all_data will contain a list of scalar Tensors. There will be SEQ_LEN of these tensors.\n",
    "<p>\n",
    "We split this list of SEQ_LEN tensors into a list of N_INPUTS Tensors and a list of N_OUTPUTS Tensors. We stack them along the first dimension to then get a vector Tensor for each.  We then put the inputs into a dict and call it features.  The other is the ground truth, so labels."
   ]
  },
  {
   "cell_type": "code",
   "execution_count": 10,
   "metadata": {},
   "outputs": [],
   "source": [
    "# Read data and convert to needed format\n",
    "def read_dataset(filename, mode, batch_size = 512):\n",
    "  def _input_fn():\n",
    "    # Provide the ability to decode a CSV\n",
    "    def decode_csv(line):\n",
    "      # all_data is a list of scalar tensors\n",
    "      all_data = tf.decode_csv(line, record_defaults = DEFAULTS)\n",
    "      inputs = all_data[:len(all_data) - N_OUTPUTS]  # first N_INPUTS values\n",
    "      labels = all_data[len(all_data) - N_OUTPUTS:] # last N_OUTPUTS values\n",
    "\n",
    "      # Convert each list of rank R tensors to one rank R+1 tensor\n",
    "      inputs = tf.stack(inputs, axis = 0)   ## stack the features into a matrix\n",
    "      labels = tf.stack(labels, axis = 0)\n",
    "      \n",
    "      # Convert input R+1 tensor into a feature dictionary of one R+1 tensor\n",
    "      features = {TIMESERIES_COL: inputs}  ## one feature, but which is a matrix\n",
    "\n",
    "      return features, labels\n",
    "\n",
    "    # Create list of files that match pattern\n",
    "    file_list = tf.gfile.Glob(filename)\n",
    "\n",
    "    # Create dataset from file list\n",
    "    dataset = tf.data.TextLineDataset(file_list).map(decode_csv)\n",
    "\n",
    "    if mode == tf.estimator.ModeKeys.TRAIN:\n",
    "        num_epochs = None # indefinitely\n",
    "        dataset = dataset.shuffle(buffer_size = 10 * batch_size)\n",
    "    else:\n",
    "        num_epochs = 1 # end-of-input after this\n",
    "\n",
    "    dataset = dataset.repeat(num_epochs).batch(batch_size)\n",
    "\n",
    "    iterator = dataset.make_one_shot_iterator()\n",
    "    batch_features, batch_labels = iterator.get_next()\n",
    "    return batch_features, batch_labels\n",
    "  return _input_fn"
   ]
  },
  {
   "cell_type": "markdown",
   "metadata": {},
   "source": [
    "<h3> Define RNN </h3>\n",
    "\n",
    "A recursive neural network consists of possibly stacked LSTM cells.\n",
    "<p>\n",
    "The RNN has one output per input, so it will have 8 output cells.  We use only the last output cell, but rather use it directly, we do a matrix multiplication of that cell by a set of weights to get the actual predictions. This allows for a degree of scaling between inputs and predictions if necessary (we don't really need it in this problem).\n",
    "<p>\n",
    "    \n",
    "<p> You have two tasks to complete\n",
    "    \n",
    "<ol>\n",
    "    <li>Firstly, define loss, train_op and eval_metric_ops as a function of mode</li>\n",
    "    <li>Secondly, use the defined variables to instantiate an EstimatorSpec</li>\n",
    " </ol>"
   ]
  },
  {
   "cell_type": "code",
   "execution_count": 26,
   "metadata": {},
   "outputs": [],
   "source": [
    "LSTM_SIZE = 3  # number of hidden layers in each of the LSTM cells\n",
    "\n",
    "# Create the inference model\n",
    "def simple_rnn(features, labels, mode):\n",
    "  # 0. Reformat input shape to become a sequence\n",
    "  x = tf.split(features[TIMESERIES_COL], N_INPUTS, 1) # Splits a tensor into sub tensors (will create N_INPUTS tensors)\n",
    "    \n",
    "  # 1. Configure the RNN\n",
    "  lstm_cell = rnn.BasicLSTMCell(LSTM_SIZE, forget_bias = 1.0)\n",
    "  outputs, _ = rnn.static_rnn(lstm_cell, x, dtype = tf.float32)\n",
    "\n",
    "  # Slice to keep only the last cell of the RNN\n",
    "  outputs = outputs[-1]\n",
    "  \n",
    "  # Output is result of linear activation of last layer of RNN\n",
    "  weight = tf.Variable(tf.random_normal([LSTM_SIZE, N_OUTPUTS]))\n",
    "  bias = tf.Variable(tf.random_normal([N_OUTPUTS]))\n",
    "  predictions = tf.matmul(outputs, weight) + bias\n",
    "    \n",
    "  # 2. Loss function, training/eval ops\n",
    "  # TODO: Implement training/eval ops for training, evaluation and prediction\n",
    "  if mode == tf.contrib.learn.ModeKeys.TRAIN or mode == tf.contrib.learn.ModeKeys.EVAL:\n",
    "    loss = tf.losses.mean_squared_error(labels = labels,\n",
    "                                      predictions = predictions)\n",
    "    train_op = tf.contrib.layers.optimize_loss(loss = loss,\n",
    "                                               global_step = tf.train.get_global_step(),\n",
    "                                               learning_rate = 0.01,\n",
    "                                               optimizer = \"SGD\")\n",
    "    eval_metric_ops = {\n",
    "      \"rmse\" : tf.metrics.root_mean_squared_error(labels, predictions)\n",
    "    }\n",
    "  else:  ## if mode other than train or eval.\n",
    "    loss = None\n",
    "    train_op = None\n",
    "    eval_metric_ops = None\n",
    "\n",
    "  \n",
    "  # 3. Create predictions\n",
    "  predictions_dict = {\"predicted\": predictions}\n",
    "  \n",
    "  # 4. Create export outputs\n",
    "  export_outputs = {\"predict_export_outputs\": tf.estimator.export.PredictOutput(outputs = predictions)}\n",
    "  \n",
    "  # 5. Return an EstimatorSpec\n",
    "  return tf.estimator.EstimatorSpec( # TODO\n",
    "    mode = mode,\n",
    "    predictions = predictions,\n",
    "    loss = loss,\n",
    "    train_op = train_op,\n",
    "    eval_metric_ops = eval_metric_ops,\n",
    "    export_outputs = export_outputs\n",
    "  )"
   ]
  },
  {
   "cell_type": "markdown",
   "metadata": {},
   "source": [
    "<h3> Estimator </h3>\n",
    "\n",
    "Distributed training is launched off using an Estimator.  The key line here is that we use tf.estimator.Estimator rather than, say tf.estimator.DNNRegressor.  This allows us to provide a model_fn, which will be our RNN defined above.  Note also that we specify a serving_input_fn -- this is how we parse the input data provided to us at prediction time.\n",
    "\n",
    "You have one task to complete: instantiate an estimator using the model function we defined previously."
   ]
  },
  {
   "cell_type": "code",
   "execution_count": 27,
   "metadata": {},
   "outputs": [],
   "source": [
    "# Create functions to read in respective datasets\n",
    "def get_train():\n",
    "  return read_dataset(filename = 'train.csv', mode = tf.estimator.ModeKeys.TRAIN, batch_size = 512)\n",
    "\n",
    "def get_valid():\n",
    "  return read_dataset(filename = 'valid.csv', mode = tf.estimator.ModeKeys.EVAL, batch_size = 512)"
   ]
  },
  {
   "cell_type": "code",
   "execution_count": 28,
   "metadata": {},
   "outputs": [],
   "source": [
    "# Create serving input function\n",
    "def serving_input_fn():\n",
    "  feature_placeholders = {\n",
    "      TIMESERIES_COL: tf.placeholder(tf.float32, [None, N_INPUTS])\n",
    "  }\n",
    "  \n",
    "  features = {\n",
    "    key: tf.expand_dims(tensor, -1)\n",
    "    for key, tensor in feature_placeholders.items()\n",
    "  }\n",
    "  features[TIMESERIES_COL] = tf.squeeze(features[TIMESERIES_COL], axis = [2])\n",
    "    \n",
    "  return tf.estimator.export.ServingInputReceiver(features, feature_placeholders)"
   ]
  },
  {
   "cell_type": "code",
   "execution_count": 29,
   "metadata": {},
   "outputs": [],
   "source": [
    "# Create custom estimator's train and evaluate function\n",
    "def train_and_evaluate(output_dir):\n",
    "  # TODO: Instantiate an estimator using our model function\n",
    "  estimator = tf.estimator.Estimator(model_fn = simple_rnn, \n",
    "                                    model_dir = output_dir)\n",
    "  train_spec = tf.estimator.TrainSpec(input_fn = get_train(),\n",
    "                                    max_steps = 1000)\n",
    "  exporter = tf.estimator.LatestExporter('exporter', serving_input_fn)\n",
    "  eval_spec = tf.estimator.EvalSpec(input_fn = get_valid(),\n",
    "                                  steps = None,\n",
    "                                  exporters = exporter)\n",
    "  tf.estimator.train_and_evaluate(estimator, train_spec, eval_spec)"
   ]
  },
  {
   "cell_type": "code",
   "execution_count": 30,
   "metadata": {},
   "outputs": [
    {
     "name": "stdout",
     "output_type": "stream",
     "text": [
      "INFO:tensorflow:Using default config.\n",
      "INFO:tensorflow:Using config: {'_is_chief': True, '_save_summary_steps': 100, '_service': None, '_task_id': 0, '_save_checkpoints_steps': None, '_num_ps_replicas': 0, '_evaluation_master': '', '_global_id_in_cluster': 0, '_tf_random_seed': None, '_train_distribute': None, '_save_checkpoints_secs': 600, '_cluster_spec': <tensorflow.python.training.server_lib.ClusterSpec object at 0x7f0f9efd1c18>, '_session_config': None, '_keep_checkpoint_every_n_hours': 10000, '_master': '', '_keep_checkpoint_max': 5, '_num_worker_replicas': 1, '_log_step_count_steps': 100, '_model_dir': 'outputdir', '_task_type': 'worker'}\n",
      "INFO:tensorflow:Running training and evaluation locally (non-distributed).\n",
      "INFO:tensorflow:Start train and evaluate loop. The evaluate will happen after 600 secs (eval_spec.throttle_secs) or training is finished.\n",
      "INFO:tensorflow:Calling model_fn.\n",
      "INFO:tensorflow:Done calling model_fn.\n",
      "INFO:tensorflow:Create CheckpointSaverHook.\n",
      "INFO:tensorflow:Graph was finalized.\n",
      "INFO:tensorflow:Running local_init_op.\n",
      "INFO:tensorflow:Done running local_init_op.\n",
      "INFO:tensorflow:Saving checkpoints for 1 into outputdir/model.ckpt.\n",
      "INFO:tensorflow:loss = 0.48875976, step = 1\n",
      "INFO:tensorflow:global_step/sec: 23.8986\n",
      "INFO:tensorflow:loss = 0.19963387, step = 101 (4.191 sec)\n",
      "INFO:tensorflow:global_step/sec: 26.8964\n",
      "INFO:tensorflow:loss = 0.13067839, step = 201 (3.718 sec)\n",
      "INFO:tensorflow:global_step/sec: 26.908\n",
      "INFO:tensorflow:loss = 0.11809935, step = 301 (3.716 sec)\n",
      "INFO:tensorflow:global_step/sec: 26.934\n",
      "INFO:tensorflow:loss = 0.08756824, step = 401 (3.714 sec)\n",
      "INFO:tensorflow:global_step/sec: 27.1772\n",
      "INFO:tensorflow:loss = 0.07545303, step = 501 (3.678 sec)\n",
      "INFO:tensorflow:global_step/sec: 27.5358\n",
      "INFO:tensorflow:loss = 0.05906198, step = 601 (3.632 sec)\n",
      "INFO:tensorflow:global_step/sec: 26.7458\n",
      "INFO:tensorflow:loss = 0.048062384, step = 701 (3.740 sec)\n",
      "INFO:tensorflow:global_step/sec: 26.5225\n",
      "INFO:tensorflow:loss = 0.042590387, step = 801 (3.771 sec)\n",
      "INFO:tensorflow:global_step/sec: 25.0158\n",
      "INFO:tensorflow:loss = 0.033659466, step = 901 (3.998 sec)\n",
      "INFO:tensorflow:Saving checkpoints for 1000 into outputdir/model.ckpt.\n",
      "INFO:tensorflow:Loss for final step: 0.02805034.\n",
      "INFO:tensorflow:Calling model_fn.\n",
      "INFO:tensorflow:Done calling model_fn.\n",
      "INFO:tensorflow:Starting evaluation at 2019-02-13-09:59:24\n",
      "INFO:tensorflow:Graph was finalized.\n",
      "INFO:tensorflow:Restoring parameters from outputdir/model.ckpt-1000\n",
      "INFO:tensorflow:Running local_init_op.\n",
      "INFO:tensorflow:Done running local_init_op.\n",
      "INFO:tensorflow:Finished evaluation at 2019-02-13-09:59:25\n",
      "INFO:tensorflow:Saving dict for global step 1000: global_step = 1000, loss = 0.021868128, rmse = 0.14787877\n",
      "INFO:tensorflow:Calling model_fn.\n",
      "INFO:tensorflow:Done calling model_fn.\n",
      "INFO:tensorflow:Signatures INCLUDED in export for Predict: ['serving_default', 'predict_export_outputs']\n",
      "INFO:tensorflow:Signatures INCLUDED in export for Regress: None\n",
      "INFO:tensorflow:Signatures INCLUDED in export for Classify: None\n",
      "INFO:tensorflow:Restoring parameters from outputdir/model.ckpt-1000\n",
      "INFO:tensorflow:Assets added to graph.\n",
      "INFO:tensorflow:No assets to write.\n",
      "INFO:tensorflow:SavedModel written to: b\"outputdir/export/exporter/temp-b'1550051965'/saved_model.pb\"\n"
     ]
    }
   ],
   "source": [
    "# Run the model\n",
    "shutil.rmtree('outputdir', ignore_errors = True) # start fresh each time\n",
    "train_and_evaluate('outputdir')"
   ]
  },
  {
   "cell_type": "markdown",
   "metadata": {},
   "source": [
    "<h3> Standalone Python module </h3>\n",
    "\n",
    "To train this on Cloud ML Engine, we take the code in this notebook and make a standalone Python module."
   ]
  },
  {
   "cell_type": "code",
   "execution_count": 38,
   "metadata": {},
   "outputs": [
    {
     "name": "stdout",
     "output_type": "stream",
     "text": [
      "/content/datalab/gcp-ml-01-ml-with-tf-on-gcp/05-art-and-science-of-ml/labs\n"
     ]
    },
    {
     "name": "stderr",
     "output_type": "stream",
     "text": [
      "/usr/local/envs/py3env/lib/python3.5/site-packages/h5py/__init__.py:36: FutureWarning: Conversion of the second argument of issubdtype from `float` to `np.floating` is deprecated. In future, it will be treated as `np.float64 == np.dtype(float).type`.\n",
      "  from ._conv import register_converters as _register_converters\n",
      "INFO:tensorflow:Using default config.\n",
      "INFO:tensorflow:Using config: {'_save_checkpoints_secs': 600, '_keep_checkpoint_max': 5, '_service': None, '_num_worker_replicas': 1, '_log_step_count_steps': 100, '_task_id': 0, '_global_id_in_cluster': 0, '_save_summary_steps': 100, '_tf_random_seed': None, '_master': '', '_num_ps_replicas': 0, '_model_dir': 'outputdir/', '_evaluation_master': '', '_task_type': 'worker', '_train_distribute': None, '_is_chief': True, '_cluster_spec': <tensorflow.python.training.server_lib.ClusterSpec object at 0x7f1c637b5588>, '_save_checkpoints_steps': None, '_keep_checkpoint_every_n_hours': 10000, '_session_config': None}\n",
      "INFO:tensorflow:Running training and evaluation locally (non-distributed).\n",
      "INFO:tensorflow:Start train and evaluate loop. The evaluate will happen after 600 secs (eval_spec.throttle_secs) or training is finished.\n",
      "INFO:tensorflow:Calling model_fn.\n",
      "INFO:tensorflow:Done calling model_fn.\n",
      "INFO:tensorflow:Create CheckpointSaverHook.\n",
      "INFO:tensorflow:Graph was finalized.\n",
      "INFO:tensorflow:Running local_init_op.\n",
      "INFO:tensorflow:Done running local_init_op.\n",
      "INFO:tensorflow:Saving checkpoints for 1 into outputdir/model.ckpt.\n",
      "INFO:tensorflow:loss = 1.0749116, step = 1\n",
      "INFO:tensorflow:global_step/sec: 27.0071\n",
      "INFO:tensorflow:loss = 0.28802818, step = 101 (3.703 sec)\n",
      "INFO:tensorflow:global_step/sec: 30.9021\n",
      "INFO:tensorflow:loss = 0.1866116, step = 201 (3.236 sec)\n",
      "INFO:tensorflow:global_step/sec: 30.5148\n",
      "INFO:tensorflow:loss = 0.15022689, step = 301 (3.277 sec)\n",
      "INFO:tensorflow:global_step/sec: 31.6319\n",
      "INFO:tensorflow:loss = 0.12248566, step = 401 (3.161 sec)\n",
      "INFO:tensorflow:global_step/sec: 31.508\n",
      "INFO:tensorflow:loss = 0.109773055, step = 501 (3.174 sec)\n",
      "INFO:tensorflow:global_step/sec: 31.6004\n",
      "INFO:tensorflow:loss = 0.09135962, step = 601 (3.164 sec)\n",
      "INFO:tensorflow:global_step/sec: 31.6436\n",
      "INFO:tensorflow:loss = 0.07052075, step = 701 (3.160 sec)\n",
      "INFO:tensorflow:global_step/sec: 31.2963\n",
      "INFO:tensorflow:loss = 0.06499141, step = 801 (3.195 sec)\n",
      "INFO:tensorflow:global_step/sec: 31.2804\n",
      "INFO:tensorflow:loss = 0.0569996, step = 901 (3.197 sec)\n",
      "INFO:tensorflow:Saving checkpoints for 1000 into outputdir/model.ckpt.\n",
      "INFO:tensorflow:Loss for final step: 0.045412183.\n",
      "INFO:tensorflow:Calling model_fn.\n",
      "INFO:tensorflow:Done calling model_fn.\n",
      "INFO:tensorflow:Starting evaluation at 2019-02-13-10:07:56\n",
      "INFO:tensorflow:Graph was finalized.\n",
      "INFO:tensorflow:Restoring parameters from outputdir/model.ckpt-1000\n",
      "INFO:tensorflow:Running local_init_op.\n",
      "INFO:tensorflow:Done running local_init_op.\n",
      "INFO:tensorflow:Finished evaluation at 2019-02-13-10:07:57\n",
      "INFO:tensorflow:Saving dict for global step 1000: global_step = 1000, loss = 0.04172763, rmse = 0.20427342\n",
      "INFO:tensorflow:Calling model_fn.\n",
      "INFO:tensorflow:Done calling model_fn.\n",
      "INFO:tensorflow:Signatures INCLUDED in export for Regress: None\n",
      "INFO:tensorflow:Signatures INCLUDED in export for Classify: None\n",
      "INFO:tensorflow:Signatures INCLUDED in export for Predict: ['serving_default', 'predict_export_outputs']\n",
      "INFO:tensorflow:Restoring parameters from outputdir/model.ckpt-1000\n",
      "INFO:tensorflow:Assets added to graph.\n",
      "INFO:tensorflow:No assets to write.\n",
      "INFO:tensorflow:SavedModel written to: b\"outputdir/export/exporter/temp-b'1550052477'/saved_model.pb\"\n"
     ]
    }
   ],
   "source": [
    "%%bash\n",
    "# Run module as-is\n",
    "echo $PWD\n",
    "rm -rf outputdir\n",
    "export PYTHONPATH=${PYTHONPATH}:${PWD}/simplernn\n",
    "python -m trainer.task \\\n",
    "  --train_data_paths=\"${PWD}/train.csv*\" \\\n",
    "  --eval_data_paths=\"${PWD}/valid.csv*\"  \\\n",
    "  --output_dir=outputdir \\\n",
    "  --job-dir=./tmp"
   ]
  },
  {
   "cell_type": "markdown",
   "metadata": {},
   "source": [
    "Try out online prediction.  This is how the REST API will work after you train on Cloud ML Engine"
   ]
  },
  {
   "cell_type": "code",
   "execution_count": 31,
   "metadata": {},
   "outputs": [
    {
     "name": "stdout",
     "output_type": "stream",
     "text": [
      "Writing test.json\n"
     ]
    }
   ],
   "source": [
    "%writefile test.json\n",
    "{\"rawdata_input\": [0,0.214,0.406,0.558,0.655,0.687,0.65,0.549,0.393]}"
   ]
  },
  {
   "cell_type": "code",
   "execution_count": 34,
   "metadata": {},
   "outputs": [],
   "source": [
    "# local predict doesn't work with Python 3 yet.\n",
    "# %%bash\n",
    "# MODEL_DIR=$(ls ./outputdir/export/exporter/)\n",
    "# gcloud ml-engine local predict --model-dir=./outputdir/export/exporter/$MODEL_DIR --json-instances=test.json"
   ]
  },
  {
   "cell_type": "markdown",
   "metadata": {},
   "source": [
    "<h3> Cloud ML Engine </h3>\n",
    "\n",
    "Now to train on Cloud ML Engine."
   ]
  },
  {
   "cell_type": "code",
   "execution_count": 39,
   "metadata": {},
   "outputs": [
    {
     "name": "stdout",
     "output_type": "stream",
     "text": [
      "inna-bckt-f02acd9ef76999dd\n",
      "/content/datalab/gcp-ml-01-ml-with-tf-on-gcp/05-art-and-science-of-ml/labs/simplernn/trainer\n",
      "jobId: simplernn_190213_100814\n",
      "state: QUEUED\n"
     ]
    },
    {
     "name": "stderr",
     "output_type": "stream",
     "text": [
      "CommandException: 1 files/objects could not be removed.\n",
      "Job [simplernn_190213_100814] submitted successfully.\n",
      "Your job is still active. You may view the status of your job with the command\n",
      "\n",
      "  $ gcloud ml-engine jobs describe simplernn_190213_100814\n",
      "\n",
      "or continue streaming the logs with the command\n",
      "\n",
      "  $ gcloud ml-engine jobs stream-logs simplernn_190213_100814\n"
     ]
    }
   ],
   "source": [
    "%%bash\n",
    "echo $BUCKET\n",
    "echo ${PWD}/simplernn/trainer\n",
    "\n",
    "# Run module on Cloud ML Engine\n",
    "OUTDIR=gs://${BUCKET}/simplernn/model_trained\n",
    "JOBNAME=simplernn_$(date -u +%y%m%d_%H%M%S)\n",
    "gsutil -m rm -rf $OUTDIR\n",
    "gcloud ml-engine jobs submit training $JOBNAME \\\n",
    "   --region=$REGION \\\n",
    "   --module-name=trainer.task \\\n",
    "   --package-path=${PWD}/simplernn/trainer \\\n",
    "   --job-dir=$OUTDIR \\\n",
    "   --staging-bucket=gs://$BUCKET \\\n",
    "   --scale-tier=BASIC \\\n",
    "   --runtime-version=1.4 \\\n",
    "   -- \\\n",
    "   --train_data_paths=\"gs://${BUCKET}/train.csv*\" \\\n",
    "   --eval_data_paths=\"gs://${BUCKET}/valid.csv*\"  \\\n",
    "   --output_dir=$OUTDIR"
   ]
  },
  {
   "cell_type": "markdown",
   "metadata": {},
   "source": [
    "<h2> Variant: long sequence </h2>\n",
    "\n",
    "To create short sequences from a very long sequence."
   ]
  },
  {
   "cell_type": "code",
   "execution_count": 42,
   "metadata": {},
   "outputs": [
    {
     "name": "stdout",
     "output_type": "stream",
     "text": [
      "input= [ 1.  2.  3.  4.  5.  6.  7.  8.  9. 10.]\n",
      "output= [[1. 2. 3. 4. 5.]\n",
      " [2. 3. 4. 5. 6.]\n",
      " [3. 4. 5. 6. 7.]\n",
      " [4. 5. 6. 7. 8.]\n",
      " [5. 6. 7. 8. 9.]]\n"
     ]
    }
   ],
   "source": [
    "import tensorflow as tf\n",
    "import numpy as np\n",
    "\n",
    "def breakup(sess, x, lookback_len):\n",
    "  N = sess.run(tf.size(x))\n",
    "  windows = [tf.slice(x, [b], [lookback_len]) for b in range(0, N-lookback_len)]\n",
    "  windows = tf.stack(windows)\n",
    "  return windows\n",
    "\n",
    "x = tf.constant(np.arange(1,11, dtype=np.float32))\n",
    "with tf.Session() as sess:\n",
    "    print('input=', x.eval())\n",
    "    seqx = breakup(sess, x, 5)\n",
    "    print('output=', seqx.eval())"
   ]
  },
  {
   "cell_type": "markdown",
   "metadata": {},
   "source": [
    "## Variant: Keras\n",
    "\n",
    "You can also invoke a Keras model from within the Estimator framework by creating an estimator from the compiled Keras model:"
   ]
  },
  {
   "cell_type": "code",
   "execution_count": 40,
   "metadata": {},
   "outputs": [],
   "source": [
    "def make_keras_estimator(output_dir):\n",
    "  ## import keras _from_ tensorflow(!)\n",
    "  from tensorflow import keras\n",
    "  model = keras.models.Sequential()\n",
    "  model.add(keras.layers.Dense(32, input_shape=(N_INPUTS,), name=TIMESERIES_INPUT_LAYER))\n",
    "  model.add(keras.layers.Activation('relu'))\n",
    "  model.add(keras.layers.Dense(1))\n",
    "  model.compile(loss = 'mean_squared_error',\n",
    "                optimizer = 'adam',\n",
    "                metrics = ['mae', 'mape']) # mean absolute [percentage] error\n",
    "  return keras.estimator.model_to_estimator(model)"
   ]
  },
  {
   "cell_type": "code",
   "execution_count": 41,
   "metadata": {},
   "outputs": [
    {
     "name": "stdout",
     "output_type": "stream",
     "text": [
      "/content/datalab/gcp-ml-01-ml-with-tf-on-gcp/05-art-and-science-of-ml/labs\n"
     ]
    },
    {
     "name": "stderr",
     "output_type": "stream",
     "text": [
      "/usr/local/envs/py3env/lib/python3.5/site-packages/h5py/__init__.py:36: FutureWarning: Conversion of the second argument of issubdtype from `float` to `np.floating` is deprecated. In future, it will be treated as `np.float64 == np.dtype(float).type`.\n",
      "  from ._conv import register_converters as _register_converters\n",
      "INFO:tensorflow:Using the Keras model provided.\n",
      "INFO:tensorflow:Using default config.\n",
      "INFO:tensorflow:Using config: {'_global_id_in_cluster': 0, '_model_dir': '/content/datalab/gcp-ml-01-ml-with-tf-on-gcp/05-art-and-science-of-ml/labs/outputdir/', '_task_type': 'worker', '_evaluation_master': '', '_num_ps_replicas': 0, '_is_chief': True, '_log_step_count_steps': 100, '_cluster_spec': <tensorflow.python.training.server_lib.ClusterSpec object at 0x7f8febbc1128>, '_save_summary_steps': 100, '_save_checkpoints_secs': 600, '_keep_checkpoint_every_n_hours': 10000, '_num_worker_replicas': 1, '_keep_checkpoint_max': 5, '_session_config': None, '_tf_random_seed': None, '_master': '', '_save_checkpoints_steps': None, '_service': None, '_task_id': 0, '_train_distribute': None}\n",
      "INFO:tensorflow:Running training and evaluation locally (non-distributed).\n",
      "INFO:tensorflow:Start train and evaluate loop. The evaluate will happen after 600 secs (eval_spec.throttle_secs) or training is finished.\n",
      "INFO:tensorflow:Calling model_fn.\n",
      "INFO:tensorflow:Done calling model_fn.\n",
      "INFO:tensorflow:Create CheckpointSaverHook.\n",
      "INFO:tensorflow:Graph was finalized.\n",
      "INFO:tensorflow:Restoring parameters from /content/datalab/gcp-ml-01-ml-with-tf-on-gcp/05-art-and-science-of-ml/labs/outputdir/keras_model.ckpt\n",
      "INFO:tensorflow:Running local_init_op.\n",
      "INFO:tensorflow:Done running local_init_op.\n",
      "INFO:tensorflow:Saving checkpoints for 1 into /content/datalab/gcp-ml-01-ml-with-tf-on-gcp/05-art-and-science-of-ml/labs/outputdir/model.ckpt.\n",
      "INFO:tensorflow:step = 1, loss = 1.0443686\n",
      "INFO:tensorflow:global_step/sec: 32.9485\n",
      "INFO:tensorflow:step = 101, loss = 0.0034158737 (3.036 sec)\n",
      "INFO:tensorflow:global_step/sec: 33.8001\n",
      "INFO:tensorflow:step = 201, loss = 0.0012076582 (2.959 sec)\n",
      "INFO:tensorflow:global_step/sec: 33.3019\n",
      "INFO:tensorflow:step = 301, loss = 0.00043127954 (3.003 sec)\n",
      "INFO:tensorflow:global_step/sec: 34.135\n",
      "INFO:tensorflow:step = 401, loss = 0.00019263936 (2.929 sec)\n",
      "INFO:tensorflow:global_step/sec: 34.2314\n",
      "INFO:tensorflow:step = 501, loss = 0.00012765295 (2.921 sec)\n",
      "INFO:tensorflow:global_step/sec: 33.5985\n",
      "INFO:tensorflow:step = 601, loss = 8.210938e-05 (2.976 sec)\n",
      "INFO:tensorflow:global_step/sec: 33.5691\n",
      "INFO:tensorflow:step = 701, loss = 6.795276e-05 (2.979 sec)\n",
      "INFO:tensorflow:global_step/sec: 32.6913\n",
      "INFO:tensorflow:step = 801, loss = 5.0053197e-05 (3.059 sec)\n",
      "INFO:tensorflow:global_step/sec: 33.3627\n",
      "INFO:tensorflow:step = 901, loss = 4.37444e-05 (2.997 sec)\n",
      "INFO:tensorflow:Saving checkpoints for 1000 into /content/datalab/gcp-ml-01-ml-with-tf-on-gcp/05-art-and-science-of-ml/labs/outputdir/model.ckpt.\n",
      "INFO:tensorflow:Loss for final step: 3.6634243e-05.\n",
      "INFO:tensorflow:Calling model_fn.\n",
      "INFO:tensorflow:Done calling model_fn.\n",
      "INFO:tensorflow:Starting evaluation at 2019-02-13-10:20:53\n",
      "INFO:tensorflow:Graph was finalized.\n",
      "INFO:tensorflow:Restoring parameters from /content/datalab/gcp-ml-01-ml-with-tf-on-gcp/05-art-and-science-of-ml/labs/outputdir/model.ckpt-1000\n",
      "INFO:tensorflow:Running local_init_op.\n",
      "INFO:tensorflow:Done running local_init_op.\n",
      "INFO:tensorflow:Finished evaluation at 2019-02-13-10:20:53\n",
      "INFO:tensorflow:Saving dict for global step 1000: global_step = 1000, loss = 3.124372e-05, mae = 0.0045469017, mape = 1.2992433\n",
      "INFO:tensorflow:Calling model_fn.\n",
      "INFO:tensorflow:Done calling model_fn.\n",
      "INFO:tensorflow:Signatures INCLUDED in export for Classify: None\n",
      "INFO:tensorflow:Signatures INCLUDED in export for Predict: ['serving_default']\n",
      "INFO:tensorflow:Signatures INCLUDED in export for Regress: None\n",
      "INFO:tensorflow:Restoring parameters from /content/datalab/gcp-ml-01-ml-with-tf-on-gcp/05-art-and-science-of-ml/labs/outputdir/model.ckpt-1000\n",
      "INFO:tensorflow:Assets added to graph.\n",
      "INFO:tensorflow:No assets to write.\n",
      "INFO:tensorflow:SavedModel written to: b\"/content/datalab/gcp-ml-01-ml-with-tf-on-gcp/05-art-and-science-of-ml/labs/outputdir/export/exporter/temp-b'1550053253'/saved_model.pb\"\n"
     ]
    }
   ],
   "source": [
    "%%bash\n",
    "# Run module as-is\n",
    "echo $PWD\n",
    "rm -rf outputdir\n",
    "export PYTHONPATH=${PYTHONPATH}:${PWD}/simplernn\n",
    "python -m trainer.task \\\n",
    "  --train_data_paths=\"${PWD}/train.csv*\" \\\n",
    "  --eval_data_paths=\"${PWD}/valid.csv*\"  \\\n",
    "  --output_dir=${PWD}/outputdir \\\n",
    "  --job-dir=./tmp --keras"
   ]
  },
  {
   "cell_type": "code",
   "execution_count": 43,
   "metadata": {},
   "outputs": [
    {
     "name": "stdout",
     "output_type": "stream",
     "text": [
      "# Copyright 2017 Google Inc. All Rights Reserved.\r\n",
      "#\r\n",
      "# Licensed under the Apache License, Version 2.0 (the \"License\");\r\n",
      "# you may not use this file except in compliance with the License.\r\n",
      "# You may obtain a copy of the License at\r\n",
      "#\r\n",
      "#     http://www.apache.org/licenses/LICENSE-2.0\r\n",
      "#\r\n",
      "# Unless required by applicable law or agreed to in writing, software\r\n",
      "# distributed under the License is distributed on an \"AS IS\" BASIS,\r\n",
      "# WITHOUT WARRANTIES OR CONDITIONS OF ANY KIND, either express or implied.\r\n",
      "# See the License for the specific language governing permissions and\r\n",
      "# limitations under the License.\r\n",
      "\r\n",
      "\"\"\"Example implementation of code to run on the Cloud ML service.\r\n",
      "\"\"\"\r\n",
      "\r\n",
      "import traceback\r\n",
      "import argparse\r\n",
      "import json\r\n",
      "import os\r\n",
      "\r\n",
      "from . import model\r\n",
      "\r\n",
      "import shutil\r\n",
      "import tensorflow as tf\r\n",
      "\r\n",
      "if __name__ == '__main__':\r\n",
      "    parser = argparse.ArgumentParser()\r\n",
      "    # Input Arguments\r\n",
      "    parser.add_argument(\r\n",
      "        '--train_data_paths',\r\n",
      "        help = 'GCS or local path to training data',\r\n",
      "        required = True\r\n",
      "    )\r\n",
      "    parser.add_argument(\r\n",
      "        '--eval_data_paths',\r\n",
      "        help = 'GCS or local path to evaluation data',\r\n",
      "        required = True\r\n",
      "    )\r\n",
      "    parser.add_argument(\r\n",
      "        '--output_dir',\r\n",
      "        help = 'GCS location to write checkpoints and export models',\r\n",
      "        required = True\r\n",
      "    )\r\n",
      "    parser.add_argument(\r\n",
      "        '--job-dir',\r\n",
      "        help = 'this model ignores this field, but it is required by gcloud',\r\n",
      "        default = 'junk'\r\n",
      "    )\r\n",
      "    parser.add_argument(\r\n",
      "        '--keras',\r\n",
      "        help = 'Use the Keras variant',\r\n",
      "        action = 'store_true'\r\n",
      "    )\r\n",
      "\r\n",
      "    # Eval arguments\r\n",
      "    parser.add_argument(\r\n",
      "        '--eval_delay_secs',\r\n",
      "        help = 'How long to wait before running first evaluation',\r\n",
      "        default = 10,\r\n",
      "        type = int\r\n",
      "    )\r\n",
      "    parser.add_argument(\r\n",
      "        '--min_eval_frequency',\r\n",
      "        help = 'Minimum number of training steps between evaluations',\r\n",
      "        default = 1,\r\n",
      "        type = int\r\n",
      "    )\r\n",
      "\r\n",
      "    args = parser.parse_args()\r\n",
      "    arguments = args.__dict__\r\n",
      "\r\n",
      "    # Unused args provided by service\r\n",
      "    arguments.pop('job_dir', None)\r\n",
      "    arguments.pop('job-dir', None)\r\n",
      "\r\n",
      "    output_dir = arguments.pop('output_dir')\r\n",
      "\r\n",
      "    # Append trial_id to path if we are doing hptuning\r\n",
      "    # This code can be removed if you are not using hyperparameter tuning\r\n",
      "    output_dir = os.path.join(\r\n",
      "        output_dir,\r\n",
      "        json.loads(\r\n",
      "            os.environ.get('TF_CONFIG', '{}')\r\n",
      "        ).get('task', {}).get('trial', '')\r\n",
      "    )\r\n",
      "\r\n",
      "    # Run the training job\r\n",
      "    try:\r\n",
      "        shutil.rmtree(output_dir, ignore_errors = True) # start fresh each time\r\n",
      "        model.train_and_evaluate(output_dir, arguments['keras'])\r\n",
      "    except:\r\n",
      "        traceback.print_exc()\r\n"
     ]
    }
   ],
   "source": [
    "!cat /content/datalab/gcp-ml-01-ml-with-tf-on-gcp/05-art-and-science-of-ml/labs/simplernn/trainer/task.py"
   ]
  },
  {
   "cell_type": "code",
   "execution_count": 44,
   "metadata": {},
   "outputs": [
    {
     "name": "stdout",
     "output_type": "stream",
     "text": [
      "#!/usr/bin/env python3\r\n",
      "\r\n",
      "# Copyright 2017 Google Inc. All Rights Reserved.\r\n",
      "#\r\n",
      "# Licensed under the Apache License, Version 2.0 (the \"License\");\r\n",
      "# you may not use this file except in compliance with the License.\r\n",
      "# You may obtain a copy of the License at\r\n",
      "#\r\n",
      "#      http://www.apache.org/licenses/LICENSE-2.0\r\n",
      "#\r\n",
      "# Unless required by applicable law or agreed to in writing, software\r\n",
      "# distributed under the License is distributed on an \"AS IS\" BASIS,\r\n",
      "# WITHOUT WARRANTIES OR CONDITIONS OF ANY KIND, either express or implied.\r\n",
      "# See the License for the specific language governing permissions and\r\n",
      "# limitations under the License.\r\n",
      "\r\n",
      "import tensorflow as tf\r\n",
      "import tensorflow.contrib.metrics as metrics\r\n",
      "import tensorflow.contrib.rnn as rnn\r\n",
      "\r\n",
      "tf.logging.set_verbosity(tf.logging.INFO)\r\n",
      "\r\n",
      "SEQ_LEN = 10\r\n",
      "DEFAULTS = [[0.0] for x in range(0, SEQ_LEN)]\r\n",
      "BATCH_SIZE = 20\r\n",
      "TIMESERIES_INPUT_LAYER = 'rawdata'\r\n",
      "TIMESERIES_COL = '{}_input'.format(TIMESERIES_INPUT_LAYER)\r\n",
      "# In each sequence, column index 0 to N_INPUTS - 1 are features, and column index N_INPUTS to SEQ_LEN are labels\r\n",
      "N_OUTPUTS = 1\r\n",
      "N_INPUTS = SEQ_LEN - N_OUTPUTS\r\n",
      "LSTM_SIZE = 3  # number of hidden layers in each of the LSTM cells\r\n",
      "\r\n",
      "# Read data and convert to needed format\r\n",
      "def read_dataset(filename, mode, batch_size):\r\n",
      "    def _input_fn():\r\n",
      "        # Provide the ability to decode a CSV\r\n",
      "        def decode_csv(line):\r\n",
      "            # all_data is a list of scalar tensors\r\n",
      "            all_data = tf.decode_csv(line, record_defaults = DEFAULTS)\r\n",
      "            inputs = all_data[:len(all_data) - N_OUTPUTS]  # first N_INPUTS values\r\n",
      "            labels = all_data[len(all_data) - N_OUTPUTS:] # last N_OUTPUTS values\r\n",
      "\r\n",
      "            # Convert each list of rank R tensors to one rank R+1 tensor\r\n",
      "            inputs = tf.stack(inputs, axis = 0)\r\n",
      "            labels = tf.stack(labels, axis = 0)\r\n",
      "\r\n",
      "            # Convert input R+1 tensor into a feature dictionary of one R+1 tensor\r\n",
      "            features = {TIMESERIES_COL: inputs}\r\n",
      "\r\n",
      "            return features, labels\r\n",
      "\r\n",
      "        # Create list of files that match pattern\r\n",
      "        file_list = tf.gfile.Glob(filename)\r\n",
      "\r\n",
      "        # Create dataset from file list\r\n",
      "        dataset = tf.data.TextLineDataset(file_list).map(decode_csv)\r\n",
      "\r\n",
      "        if mode == tf.estimator.ModeKeys.TRAIN:\r\n",
      "            num_epochs = None # indefinitely\r\n",
      "            dataset = dataset.shuffle(buffer_size = 10 * batch_size)\r\n",
      "        else:\r\n",
      "            num_epochs = 1 # end-of-input after this\r\n",
      "\r\n",
      "        dataset = dataset.repeat(num_epochs).batch(batch_size)\r\n",
      "\r\n",
      "        iterator = dataset.make_one_shot_iterator()\r\n",
      "        batch_features, batch_labels = iterator.get_next()\r\n",
      "        return batch_features, batch_labels\r\n",
      "    return _input_fn\r\n",
      "\r\n",
      "# Create inference model using Keras\r\n",
      "# The model here is a dnn regressor\r\n",
      "def make_keras_estimator(output_dir):\r\n",
      "  from tensorflow import keras\r\n",
      "  model = keras.models.Sequential()\r\n",
      "  model.add(keras.layers.Dense(32, input_shape=(N_INPUTS,), name=TIMESERIES_INPUT_LAYER))\r\n",
      "  model.add(keras.layers.Activation('relu'))\r\n",
      "  model.add(keras.layers.Dense(1))\r\n",
      "  model.compile(loss = 'mean_squared_error',\r\n",
      "                optimizer = 'adam', \r\n",
      "                metrics = ['mae', 'mape']) # mean absolute [percentage] error\r\n",
      "  return keras.estimator.model_to_estimator(model, model_dir=output_dir)\r\n",
      "\r\n",
      "# Create the inference model\r\n",
      "def simple_rnn(features, labels, mode):\r\n",
      "    # 0. Reformat input shape to become a sequence\r\n",
      "    x = tf.split(features[TIMESERIES_COL], N_INPUTS, 1)\r\n",
      "\r\n",
      "    # 1. Configure the RNN\r\n",
      "    lstm_cell = rnn.BasicLSTMCell(LSTM_SIZE, forget_bias = 1.0)\r\n",
      "    outputs, _ = rnn.static_rnn(lstm_cell, x, dtype = tf.float32)\r\n",
      "\r\n",
      "    # Slice to keep only the last cell of the RNN\r\n",
      "    outputs = outputs[-1]\r\n",
      "    #print('last outputs={}'.format(outputs))\r\n",
      "\r\n",
      "    # Output is result of linear activation of last layer of RNN\r\n",
      "    weight = tf.Variable(tf.random_normal([LSTM_SIZE, N_OUTPUTS]))\r\n",
      "    bias = tf.Variable(tf.random_normal([N_OUTPUTS]))\r\n",
      "    predictions = tf.matmul(outputs, weight) + bias\r\n",
      "    \r\n",
      "    # 2. Loss function, training/eval ops\r\n",
      "    if mode == tf.estimator.ModeKeys.TRAIN or mode == tf.estimator.ModeKeys.EVAL:\r\n",
      "        loss = tf.losses.mean_squared_error(labels, predictions)\r\n",
      "        train_op = tf.contrib.layers.optimize_loss(\r\n",
      "            loss = loss,\r\n",
      "            global_step = tf.train.get_global_step(),\r\n",
      "            learning_rate = 0.01,\r\n",
      "            optimizer = \"SGD\")\r\n",
      "        eval_metric_ops = {\r\n",
      "            \"rmse\": tf.metrics.root_mean_squared_error(labels, predictions)\r\n",
      "        }\r\n",
      "    else:\r\n",
      "        loss = None\r\n",
      "        train_op = None\r\n",
      "        eval_metric_ops = None\r\n",
      "  \r\n",
      "    # 3. Create predictions\r\n",
      "    predictions_dict = {\"predicted\": predictions}\r\n",
      "    \r\n",
      "    # 4. Create export outputs\r\n",
      "    export_outputs = {\"predict_export_outputs\": tf.estimator.export.PredictOutput(outputs = predictions)}\r\n",
      "\r\n",
      "    # 4. Return EstimatorSpec\r\n",
      "    return tf.estimator.EstimatorSpec(\r\n",
      "        mode = mode,\r\n",
      "        predictions = predictions_dict,\r\n",
      "        loss = loss,\r\n",
      "        train_op = train_op,\r\n",
      "        eval_metric_ops = eval_metric_ops,\r\n",
      "        export_outputs = export_outputs)\r\n",
      "\r\n",
      "# Create serving input function\r\n",
      "def serving_input_fn():\r\n",
      "    feature_placeholders = {\r\n",
      "        TIMESERIES_COL: tf.placeholder(tf.float32, [None, N_INPUTS])\r\n",
      "    }\r\n",
      "\r\n",
      "    features = {\r\n",
      "        key: tf.expand_dims(tensor, -1)\r\n",
      "        for key, tensor in feature_placeholders.items()\r\n",
      "    }\r\n",
      "    features[TIMESERIES_COL] = tf.squeeze(features[TIMESERIES_COL], axis = [2])\r\n",
      "\r\n",
      "    return tf.estimator.export.ServingInputReceiver(features, feature_placeholders)\r\n",
      "\r\n",
      "# Create custom estimator's train and evaluate function\r\n",
      "def train_and_evaluate(output_dir, use_keras):\r\n",
      "    if use_keras:\r\n",
      "       estimator = make_keras_estimator(output_dir)\r\n",
      "    else:\r\n",
      "       estimator = tf.estimator.Estimator(model_fn = simple_rnn, \r\n",
      "                                          model_dir = output_dir)\r\n",
      "    train_spec = tf.estimator.TrainSpec(read_dataset('train.csv',\r\n",
      "                                            tf.estimator.ModeKeys.TRAIN,\r\n",
      "                                            512),\r\n",
      "                                        max_steps = 1000)\r\n",
      "    exporter = tf.estimator.LatestExporter('exporter', serving_input_fn)\r\n",
      "    eval_spec = tf.estimator.EvalSpec(read_dataset('valid.csv',\r\n",
      "                                            tf.estimator.ModeKeys.EVAL,\r\n",
      "                                            512),\r\n",
      "                                      steps = None, \r\n",
      "                                      exporters = exporter)\r\n",
      "    tf.estimator.train_and_evaluate(estimator, train_spec, eval_spec)\r\n"
     ]
    }
   ],
   "source": [
    "!cat /content/datalab/gcp-ml-01-ml-with-tf-on-gcp/05-art-and-science-of-ml/labs/simplernn/trainer/model.py"
   ]
  },
  {
   "cell_type": "markdown",
   "metadata": {},
   "source": [
    "Copyright 2017 Google Inc. Licensed under the Apache License, Version 2.0 (the \"License\"); you may not use this file except in compliance with the License. You may obtain a copy of the License at http://www.apache.org/licenses/LICENSE-2.0 Unless required by applicable law or agreed to in writing, software distributed under the License is distributed on an \"AS IS\" BASIS, WITHOUT WARRANTIES OR CONDITIONS OF ANY KIND, either express or implied. See the License for the specific language governing permissions and limitations under the License"
   ]
  }
 ],
 "metadata": {
  "kernelspec": {
   "display_name": "Python 3",
   "language": "python",
   "name": "python3"
  },
  "language_info": {
   "codemirror_mode": {
    "name": "ipython",
    "version": 3
   },
   "file_extension": ".py",
   "mimetype": "text/x-python",
   "name": "python",
   "nbconvert_exporter": "python",
   "pygments_lexer": "ipython3",
   "version": "3.5.6"
  }
 },
 "nbformat": 4,
 "nbformat_minor": 2
}
